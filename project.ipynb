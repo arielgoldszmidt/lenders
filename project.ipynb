{
 "cells": [
  {
   "cell_type": "markdown",
   "metadata": {},
   "source": [
    "## Import libraries and data"
   ]
  },
  {
   "cell_type": "code",
   "execution_count": 1,
   "metadata": {},
   "outputs": [
    {
     "name": "stderr",
     "output_type": "stream",
     "text": [
      "/anaconda/lib/python3.6/site-packages/statsmodels/compat/pandas.py:56: FutureWarning: The pandas.core.datetools module is deprecated and will be removed in a future version. Please use the pandas.tseries module instead.\n",
      "  from pandas.core import datetools\n",
      "/anaconda/lib/python3.6/site-packages/IPython/core/magics/execution.py:728: DtypeWarning: Columns (0,19,55) have mixed types. Specify dtype option on import or set low_memory=False.\n",
      "  exit_ignore=exit_ignore)\n",
      "/anaconda/lib/python3.6/site-packages/IPython/core/magics/execution.py:728: DtypeWarning: Columns (0,19) have mixed types. Specify dtype option on import or set low_memory=False.\n",
      "  exit_ignore=exit_ignore)\n",
      "/anaconda/lib/python3.6/site-packages/IPython/core/magics/execution.py:728: DtypeWarning: Columns (0,112) have mixed types. Specify dtype option on import or set low_memory=False.\n",
      "  exit_ignore=exit_ignore)\n",
      "/anaconda/lib/python3.6/site-packages/IPython/core/magics/execution.py:728: DtypeWarning: Columns (0,123,124,125,128,129,130,133,139,140,141) have mixed types. Specify dtype option on import or set low_memory=False.\n",
      "  exit_ignore=exit_ignore)\n",
      "/anaconda/lib/python3.6/site-packages/IPython/core/magics/execution.py:728: DtypeWarning: Columns (0) have mixed types. Specify dtype option on import or set low_memory=False.\n",
      "  exit_ignore=exit_ignore)\n",
      "/anaconda/lib/python3.6/site-packages/IPython/core/magics/execution.py:728: DtypeWarning: Columns (0,47,123,124,125,128,129,130,133) have mixed types. Specify dtype option on import or set low_memory=False.\n",
      "  exit_ignore=exit_ignore)\n",
      "/anaconda/lib/python3.6/site-packages/IPython/core/magics/execution.py:728: DtypeWarning: Columns (0,47) have mixed types. Specify dtype option on import or set low_memory=False.\n",
      "  exit_ignore=exit_ignore)\n"
     ]
    }
   ],
   "source": [
    "%run load_data.py"
   ]
  },
  {
   "cell_type": "markdown",
   "metadata": {},
   "source": [
    "## Plot loan grade distributions"
   ]
  },
  {
   "cell_type": "code",
   "execution_count": 45,
   "metadata": {},
   "outputs": [
    {
     "data": {
      "image/png": "iVBORw0KGgoAAAANSUhEUgAAAYIAAAEWCAYAAABrDZDcAAAABHNCSVQICAgIfAhkiAAAAAlwSFlz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\n",
      "text/plain": [
       "<Figure size 432x288 with 1 Axes>"
      ]
     },
     "metadata": {},
     "output_type": "display_data"
    }
   ],
   "source": [
    "# Plot distribution of interest rates for each loan grade\n",
    "\n",
    "for grade in ['A', 'B', 'C', 'D', 'E', 'F', 'G']:\n",
    "    subset = frame['grade'] == grade\n",
    "    frame['int_rate_num'][subset].hist(label = grade, density = True, alpha = 0.75)\n",
    "\n",
    "plt.legend()\n",
    "plt.title(\"Interest Rates by Loan Grades\")\n",
    "plt.ylabel(\"Density\")\n",
    "plt.xlabel(\"Interest Rate\")\n",
    "plt.savefig(\"interestratehistogram.pdf\")\n",
    "plt.show()"
   ]
  },
  {
   "cell_type": "markdown",
   "metadata": {},
   "source": [
    "## Logistic Regression"
   ]
  },
  {
   "cell_type": "code",
   "execution_count": 7,
   "metadata": {
    "collapsed": true
   },
   "outputs": [],
   "source": [
    "# Logistic regression of probability of going bad on pre-application characteristics\n",
    "\n",
    "from sklearn.linear_model import LogisticRegression\n",
    "\n",
    "lr = LogisticRegression()\n",
    "lr.fit(train_features, train_labels[\"bad\"])\n",
    "test_features['pred_fail_rate'] = lr.predict_proba(test_features)[:, 1]"
   ]
  },
  {
   "cell_type": "markdown",
   "metadata": {},
   "source": [
    "## Linear regression"
   ]
  },
  {
   "cell_type": "code",
   "execution_count": 2,
   "metadata": {},
   "outputs": [
    {
     "data": {
      "text/plain": [
       "LinearRegression(copy_X=True, fit_intercept=True, n_jobs=1, normalize=False)"
      ]
     },
     "execution_count": 2,
     "metadata": {},
     "output_type": "execute_result"
    }
   ],
   "source": [
    "from sklearn import linear_model\n",
    "\n",
    "linreg = linear_model.LinearRegression()\n",
    "linreg.fit(train_features, train_labels[\"bad\"])"
   ]
  },
  {
   "cell_type": "code",
   "execution_count": 3,
   "metadata": {
    "collapsed": true
   },
   "outputs": [],
   "source": [
    "import statsmodels.api as sm\n",
    "linregCO = sm.OLS(train_labels[\"bad\"], sm.add_constant(train_features)).fit()\n",
    "# linregCO.summary()"
   ]
  },
  {
   "cell_type": "markdown",
   "metadata": {},
   "source": [
    "## Explore returns"
   ]
  },
  {
   "cell_type": "code",
   "execution_count": 4,
   "metadata": {
    "collapsed": true
   },
   "outputs": [],
   "source": [
    "linreg_ret = sm.OLS(train_labels[\"return\"], sm.add_constant(train_features)).fit()\n",
    "# linreg_ret.summary()"
   ]
  },
  {
   "cell_type": "code",
   "execution_count": 5,
   "metadata": {
    "collapsed": true
   },
   "outputs": [],
   "source": [
    "linreg_rec = sm.OLS(train_labels[train_labels.bad == 0][\"return\"], \n",
    "                    sm.add_constant(train_features[train_labels.bad == 0])).fit()\n",
    "# linreg_rec.summary()"
   ]
  },
  {
   "cell_type": "code",
   "execution_count": 8,
   "metadata": {
    "collapsed": true
   },
   "outputs": [],
   "source": [
    "linreg_rec_rate = sm.OLS(train_labels[train_labels.bad == 1][\"return\"], \n",
    "                         sm.add_constant(train_features[train_labels.bad == 1])).fit()\n",
    "linreg_rec_rate.summary()\n",
    "test_features[\"pred_rec_rate\"] = linreg_rec_rate.predict(test_features.drop(\"pred_fail_rate\", 1))"
   ]
  },
  {
   "cell_type": "code",
   "execution_count": 9,
   "metadata": {},
   "outputs": [
    {
     "data": {
      "text/plain": [
       "array([[ 1.        ,  0.03543396],\n",
       "       [ 0.03543396,  1.        ]])"
      ]
     },
     "execution_count": 9,
     "metadata": {},
     "output_type": "execute_result"
    }
   ],
   "source": [
    "np.corrcoef(test_features[[\"pred_fail_rate\", \"pred_rec_rate\"]], rowvar=0)"
   ]
  },
  {
   "cell_type": "code",
   "execution_count": 10,
   "metadata": {
    "collapsed": true
   },
   "outputs": [],
   "source": [
    "# Compute expected gross return R\n",
    "\n",
    "test_features[\"exp_R\"] = ((1 + test_features[\"int_rate_num\"]) * (1 - test_features[\"pred_fail_rate\"]) +\n",
    "                         test_features[\"pred_rec_rate\"] * test_features[\"pred_fail_rate\"])"
   ]
  },
  {
   "cell_type": "markdown",
   "metadata": {},
   "source": [
    "## Predicting variances"
   ]
  },
  {
   "cell_type": "code",
   "execution_count": 11,
   "metadata": {
    "collapsed": true
   },
   "outputs": [],
   "source": [
    "linreg_rec_rate2 = sm.OLS(train_labels[train_labels.bad == 1][\"return\"] ** 2, \n",
    "                         sm.add_constant(train_features[train_labels.bad == 1])).fit()\n",
    "linreg_rec_rate2.summary()\n",
    "test_features[\"pred_rec_rate2\"] = linreg_rec_rate2.predict(sm.add_constant(test_features.iloc[:,:100]))\n",
    "\n",
    "test_features[\"exp_R2\"] = ((1 + test_features[\"int_rate_num\"])**2 * (1 - test_features[\"pred_fail_rate\"]) +\n",
    "                         test_features[\"pred_rec_rate2\"] * test_features[\"pred_fail_rate\"])\n",
    "test_features[\"var_R\"] = (test_features[\"exp_R2\"] - test_features[\"exp_R\"]**2)"
   ]
  },
  {
   "cell_type": "code",
   "execution_count": 12,
   "metadata": {},
   "outputs": [
    {
     "data": {
      "text/plain": [
       "array([[ 1.        ,  0.04735961],\n",
       "       [ 0.04735961,  1.        ]])"
      ]
     },
     "execution_count": 12,
     "metadata": {},
     "output_type": "execute_result"
    }
   ],
   "source": [
    "np.corrcoef(test_features[[\"var_R\", \"exp_R\"]].values, rowvar=False)"
   ]
  },
  {
   "cell_type": "markdown",
   "metadata": {},
   "source": [
    "## Skewness and Kurtosis"
   ]
  },
  {
   "cell_type": "code",
   "execution_count": 13,
   "metadata": {
    "collapsed": true
   },
   "outputs": [],
   "source": [
    "linreg_rec_rate3 = sm.OLS(train_labels[train_labels.bad == 1][\"return\"] ** 3, \n",
    "                         sm.add_constant(train_features[train_labels.bad == 1])).fit()\n",
    "linreg_rec_rate3.summary()\n",
    "\n",
    "test_features[\"pred_rec_rate3\"] = linreg_rec_rate3.predict(test_features.iloc[:, :100])\n",
    "\n",
    "test_features[\"exp_R3\"] = ((1 + test_features[\"int_rate_num\"])**3 * (1 - test_features[\"pred_fail_rate\"]) +\n",
    "                           test_features[\"pred_rec_rate3\"] * test_features[\"pred_fail_rate\"])\n",
    "\n",
    "test_features.eval(\"skew_R = (exp_R3 - 3 * exp_R * var_R - exp_R ** 3)\", inplace=True)"
   ]
  },
  {
   "cell_type": "code",
   "execution_count": 14,
   "metadata": {},
   "outputs": [
    {
     "data": {
      "text/plain": [
       "14.726514824204337"
      ]
     },
     "execution_count": 14,
     "metadata": {},
     "output_type": "execute_result"
    }
   ],
   "source": [
    "import statsmodels.stats.outliers_influence\n",
    "\n",
    "statsmodels.stats.outliers_influence.variance_inflation_factor(test_features[[\"var_R\", \"skew_R\"]].values, 1)"
   ]
  },
  {
   "cell_type": "code",
   "execution_count": 15,
   "metadata": {},
   "outputs": [
    {
     "data": {
      "text/plain": [
       "array([[ 1.        , -0.86090799],\n",
       "       [-0.86090799,  1.        ]])"
      ]
     },
     "execution_count": 15,
     "metadata": {},
     "output_type": "execute_result"
    }
   ],
   "source": [
    "np.corrcoef(test_features[[\"var_R\", \"skew_R\"]].values, rowvar=False)"
   ]
  },
  {
   "cell_type": "code",
   "execution_count": 17,
   "metadata": {
    "collapsed": true
   },
   "outputs": [],
   "source": [
    "linreg_rec_rate4 = sm.OLS(train_labels[train_labels.bad == 1][\"return\"] ** 4, \n",
    "                         sm.add_constant(train_features[train_labels.bad == 1])).fit()\n",
    "\n",
    "test_features[\"pred_rec_rate4\"] = linreg_rec_rate4.predict(test_features.iloc[:, :100])\n",
    "\n",
    "test_features[\"exp_R4\"] = ((1 + test_features[\"int_rate_num\"])**4 * (1 - test_features[\"pred_fail_rate\"]) +\n",
    "                           test_features[\"pred_rec_rate4\"] * test_features[\"pred_fail_rate\"])\n",
    "\n",
    "test_features.eval(\"kurt_R = exp_R4 - 4 * exp_R3 * exp_R + 6 * exp_R2**2 - 3 * exp_R4 ** 4\", inplace=True)"
   ]
  },
  {
   "cell_type": "code",
   "execution_count": 20,
   "metadata": {},
   "outputs": [
    {
     "data": {
      "text/plain": [
       "array([[ 1.        , -0.86369075],\n",
       "       [-0.86369075,  1.        ]])"
      ]
     },
     "execution_count": 20,
     "metadata": {},
     "output_type": "execute_result"
    }
   ],
   "source": [
    "np.corrcoef(test_features[[\"exp_R\", \"kurt_R\"]].values, rowvar=False)"
   ]
  },
  {
   "cell_type": "markdown",
   "metadata": {},
   "source": [
    "## Separate Regressions for Each Loan Grade"
   ]
  },
  {
   "cell_type": "code",
   "execution_count": 70,
   "metadata": {
    "collapsed": true
   },
   "outputs": [],
   "source": [
    "test_features.drop(test_features.columns[100:], axis=1, inplace=True)"
   ]
  },
  {
   "cell_type": "code",
   "execution_count": 2,
   "metadata": {
    "collapsed": true
   },
   "outputs": [],
   "source": [
    "# Regressions of rates on personal characteristics, using linear or logistic\n",
    "# regression to predict defaults.\n",
    "\n",
    "from sklearn.linear_model import LogisticRegression\n",
    "\n",
    "train_features_no_int = train_features.drop(\"int_rate_num\", 1)\n",
    "test_features_no_int = test_features.drop(\"int_rate_num\", 1)\n",
    "\n",
    "for grade in [\"A\", \"B\", \"C\", \"D\", \"E\", \"F\", \"G\"]: \n",
    "    \n",
    "#     lr_fail_rate = LogisticRegression()\n",
    "#     lr_fail_rate.fit(train_features_no_int[train_labels[\"grade_\" + grade] == 1], \n",
    "#                      train_labels[train_labels[\"grade_\" + grade] == 1][\"bad\"])\n",
    "#     test_features[\"pred_fail_rate_\" + grade] = lr_fail_rate.predict_proba(test_features_no_int)[:, 1]\n",
    "    \n",
    "    lr_fail_rate = sm.OLS(train_labels[train_labels[\"grade_\" + grade] == 1][\"bad\"],\n",
    "                          train_features_no_int[train_labels[\"grade_\" + grade] == 1]).fit()\n",
    "    test_features[\"pred_fail_rate_\" + grade] = lr_fail_rate.predict(test_features_no_int)\n",
    "    \n",
    "    mask = (train_labels[\"grade_\" + grade] == 1) & (train_labels[\"bad\"] == 1)\n",
    "    lr_rec_rate = sm.OLS(train_labels[mask][\"return\"], sm.add_constant(train_features_no_int[mask])).fit()\n",
    "    test_features[\"pred_rec_rate_\" + grade] = lr_rec_rate.predict(test_features_no_int)\n",
    "    \n",
    "    lr_rec_rate2 = sm.OLS(train_labels[mask][\"return\"] ** 2, sm.add_constant(train_features_no_int[mask])).fit()\n",
    "    test_features[\"pred_rec_rate2_\" + grade] = lr_rec_rate2.predict(test_features_no_int)\n",
    "    \n",
    "    r = np.mean(train_features[train_labels[\"grade_\" + grade] == 1][\"int_rate_num\"])\n",
    "    \n",
    "    test_features[\"exp_R_\" + grade] = ((1 + r) * (1 - test_features[\"pred_fail_rate_\" + grade]) +\n",
    "                         test_features[\"pred_rec_rate_\" + grade] * test_features[\"pred_fail_rate_\" + grade])\n",
    "    \n",
    "    test_features[\"var_R_\" + grade] = ((1 + r)**2 * (1 - test_features[\"pred_fail_rate_\" + grade]) +\n",
    "                         test_features[\"pred_rec_rate2_\" + grade] * test_features[\"pred_fail_rate_\" + grade] \n",
    "                         - test_features[\"exp_R_\" + grade]**2)"
   ]
  },
  {
   "cell_type": "code",
   "execution_count": 3,
   "metadata": {},
   "outputs": [
    {
     "data": {
      "image/png": "iVBORw0KGgoAAAANSUhEUgAAAagAAAEYCAYAAAAJeGK1AAAABHNCSVQICAgIfAhkiAAAAAlwSFlz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\n",
      "text/plain": [
       "<Figure size 432x288 with 1 Axes>"
      ]
     },
     "metadata": {},
     "output_type": "display_data"
    }
   ],
   "source": [
    "for grade in [\"A\", \"B\", \"C\", \"D\", \"E\", \"F\", \"G\"]:\n",
    "    plt.plot(test_features[test_labels[\"grade_\" + grade] == 1][\"exp_R_\" + grade][:10000], \n",
    "             test_features[test_labels[\"grade_\" + grade] == 1][\"var_R_\" + grade][:10000], \n",
    "             marker='o', linestyle='', label=grade, alpha = 0.25)\n",
    "\n",
    "plt.legend()\n",
    "plt.title(\"Loans by Estimated Mean and Variance of Return\")\n",
    "plt.xlabel(\"Estimated Mean\")\n",
    "plt.ylabel(\"Estimated Variance\")\n",
    "\n",
    "plt.ylim((-0.2, 0.2))\n",
    "plt.xlim((0.5, 1.5))\n",
    "\n",
    "plt.tight_layout()\n",
    "fig1 = plt.gcf()\n",
    "fig1.savefig('returnvariance2.pdf')\n",
    "plt.show()"
   ]
  },
  {
   "cell_type": "markdown",
   "metadata": {},
   "source": [
    "## ML Discrete Choice Model"
   ]
  },
  {
   "cell_type": "code",
   "execution_count": 6,
   "metadata": {
    "collapsed": true
   },
   "outputs": [],
   "source": [
    "# Define negative log-likelihood function\n",
    "import scipy\n",
    "\n",
    "def nllh(beta, features, labels):\n",
    "    utilities = {}\n",
    "    for grade in [\"A\", \"B\", \"C\", \"D\", \"E\", \"F\", \"G\"]:\n",
    "        utilities[grade] = np.dot(features[[\"exp_R_\" + grade, \"var_R_\" + grade]].values, beta)\n",
    "    utilitiesArray = pd.DataFrame(utilities).values\n",
    "    indicatorArray = labels[[\"grade_\" + x for x in [\"A\", \"B\", \"C\", \"D\", \"E\", \"F\", \"G\"]]].values\n",
    "    term1 = np.sum(utilitiesArray * indicatorArray, axis=1)\n",
    "    term2 = scipy.special.logsumexp(utilitiesArray, axis=1)\n",
    "    return -1 * np.sum(term1 - term2)\n",
    "    # return utilitiesArray\n",
    "\n",
    "def grad(beta, features, labels):\n",
    "    X1, X2 = {}, {}\n",
    "    utilities = {}\n",
    "    for grade in [\"A\", \"B\", \"C\", \"D\", \"E\", \"F\", \"G\"]:\n",
    "        X1[grade] = features[\"exp_R_\" + grade].values\n",
    "        X2[grade] = features[\"var_R_\" + grade].values\n",
    "        utilities[grade] = np.dot(features[[\"exp_R_\" + grade, \"var_R_\" + grade]].values, beta)\n",
    "    X1Array = pd.DataFrame(X1).values\n",
    "    X2Array = pd.DataFrame(X2).values\n",
    "    utilitiesArray = pd.DataFrame(utilities).values\n",
    "        \n",
    "    indicatorArray = labels[[\"grade_\" + x for x in [\"A\", \"B\", \"C\", \"D\", \"E\", \"F\", \"G\"]]].values\n",
    "    \n",
    "    d1 = (np.sum(X1Array * indicatorArray, axis=1) - \n",
    "     np.sum(np.exp(utilitiesArray) * X1Array, axis=1) / np.sum(np.exp(utilitiesArray), axis=1))\n",
    "    d2 = (np.sum(X2Array * indicatorArray, axis=1) - \n",
    "     np.sum(np.exp(utilitiesArray) * X2Array, axis=1) / np.sum(np.exp(utilitiesArray), axis=1))\n",
    "    \n",
    "    return -1 * np.array([np.sum(d1), np.sum(d2)])\n",
    "\n",
    "def nllh_restriction1(beta, features, labels):\n",
    "    utilities = {}\n",
    "    for grade in [\"A\", \"B\", \"C\", \"D\", \"E\", \"F\", \"G\"]:\n",
    "        utilities[grade] = features[\"var_R_\" + grade].values * beta\n",
    "    utilitiesArray = pd.DataFrame(utilities).values\n",
    "    indicatorArray = labels[[\"grade_\" + x for x in [\"A\", \"B\", \"C\", \"D\", \"E\", \"F\", \"G\"]]].values\n",
    "    term1 = np.sum(utilitiesArray * indicatorArray, axis=1)\n",
    "    term2 = scipy.special.logsumexp(utilitiesArray, axis=1)\n",
    "    return -1 * np.sum(term1 - term2)\n",
    "\n",
    "def nllh_restriction2(beta, features, labels):\n",
    "    utilities = {}\n",
    "    for grade in [\"A\", \"B\", \"C\", \"D\", \"E\", \"F\", \"G\"]:\n",
    "        utilities[grade] = features[\"exp_R_\" + grade].values * beta\n",
    "    utilitiesArray = pd.DataFrame(utilities).values\n",
    "    indicatorArray = labels[[\"grade_\" + x for x in [\"A\", \"B\", \"C\", \"D\", \"E\", \"F\", \"G\"]]].values\n",
    "    term1 = np.sum(utilitiesArray * indicatorArray, axis=1)\n",
    "    term2 = scipy.special.logsumexp(utilitiesArray, axis=1)\n",
    "    return -1 * np.sum(term1 - term2)"
   ]
  },
  {
   "cell_type": "code",
   "execution_count": 7,
   "metadata": {},
   "outputs": [
    {
     "data": {
      "text/plain": [
       "932219.39146733168"
      ]
     },
     "execution_count": 7,
     "metadata": {},
     "output_type": "execute_result"
    }
   ],
   "source": [
    "nllh([0,0], test_features, test_labels)"
   ]
  },
  {
   "cell_type": "code",
   "execution_count": 8,
   "metadata": {
    "collapsed": true
   },
   "outputs": [],
   "source": [
    "# Run maximum likelihood estimation\n",
    "\n",
    "import scipy.optimize\n",
    "\n",
    "opt = scipy.optimize.minimize(nllh, [0,0], jac=grad, args=(test_features, test_labels), method='L-BFGS-B')"
   ]
  },
  {
   "cell_type": "code",
   "execution_count": 9,
   "metadata": {},
   "outputs": [
    {
     "data": {
      "text/plain": [
       "      fun: 829446.44417596655\n",
       " hess_inv: <2x2 LbfgsInvHessProduct with dtype=float64>\n",
       "      jac: array([ 0.00073141,  0.00047234])\n",
       "  message: b'CONVERGENCE: REL_REDUCTION_OF_F_<=_FACTR*EPSMCH'\n",
       "     nfev: 9\n",
       "      nit: 7\n",
       "   status: 0\n",
       "  success: True\n",
       "        x: array([  4.98959152, -52.10807192])"
      ]
     },
     "execution_count": 9,
     "metadata": {},
     "output_type": "execute_result"
    }
   ],
   "source": [
    "opt"
   ]
  },
  {
   "cell_type": "code",
   "execution_count": 7,
   "metadata": {},
   "outputs": [
    {
     "data": {
      "text/plain": [
       "1711.1011622997466"
      ]
     },
     "execution_count": 7,
     "metadata": {},
     "output_type": "execute_result"
    }
   ],
   "source": [
    "# Likelihood ratio tests\n",
    "\n",
    "llh_r = scipy.optimize.minimize(nllh_restriction1, [0], args=(test_features, test_labels), method='BFGS').fun\n",
    "-2 * (opt.fun - llh_r)"
   ]
  },
  {
   "cell_type": "code",
   "execution_count": 8,
   "metadata": {},
   "outputs": [
    {
     "data": {
      "text/plain": [
       "165702.40462009166"
      ]
     },
     "execution_count": 8,
     "metadata": {},
     "output_type": "execute_result"
    }
   ],
   "source": [
    "llh_r = scipy.optimize.minimize(nllh_restriction2, [0], args=(test_features, test_labels), method='BFGS').fun\n",
    "-2 * (opt.fun - llh_r)"
   ]
  },
  {
   "cell_type": "code",
   "execution_count": 76,
   "metadata": {},
   "outputs": [
    {
     "data": {
      "text/plain": [
       "0.088860033370838587"
      ]
     },
     "execution_count": 76,
     "metadata": {},
     "output_type": "execute_result"
    }
   ],
   "source": [
    "# R2_McFadden\n",
    "1 - opt.fun/nllh([0,0], test_features, test_labels)"
   ]
  },
  {
   "cell_type": "code",
   "execution_count": 77,
   "metadata": {},
   "outputs": [
    {
     "data": {
      "text/plain": [
       "165674.09246945987"
      ]
     },
     "execution_count": 77,
     "metadata": {},
     "output_type": "execute_result"
    }
   ],
   "source": [
    "#-2logLR\n",
    "-2 * (opt.fun - nllh([0,0], test_features, test_labels))"
   ]
  },
  {
   "cell_type": "markdown",
   "metadata": {},
   "source": [
    "## Comparing estimated vs. actual loan assignments"
   ]
  },
  {
   "cell_type": "code",
   "execution_count": 10,
   "metadata": {
    "collapsed": true
   },
   "outputs": [],
   "source": [
    "beta = opt.x\n",
    "utilities = {}\n",
    "for grade in [\"A\", \"B\", \"C\", \"D\", \"E\", \"F\", \"G\"]:\n",
    "    utilities[grade] = np.dot(test_features[[\"exp_R_\" + grade, \"var_R_\" + grade]].values, beta)\n",
    "utilitiesArray = pd.DataFrame(utilities).values\n",
    "indicatorArray = test_labels[[\"grade_\" + x for x in [\"A\", \"B\", \"C\", \"D\", \"E\", \"F\", \"G\"]]].values"
   ]
  },
  {
   "cell_type": "code",
   "execution_count": 11,
   "metadata": {},
   "outputs": [
    {
     "data": {
      "text/plain": [
       "0.16732767510113428"
      ]
     },
     "execution_count": 11,
     "metadata": {},
     "output_type": "execute_result"
    }
   ],
   "source": [
    "np.mean(np.abs(utilitiesArray.argmax(axis=1) - indicatorArray.argmax(axis=1)) <= 0)"
   ]
  },
  {
   "cell_type": "code",
   "execution_count": 12,
   "metadata": {},
   "outputs": [
    {
     "data": {
      "text/plain": [
       "0.91171362609744799"
      ]
     },
     "execution_count": 12,
     "metadata": {},
     "output_type": "execute_result"
    }
   ],
   "source": [
    "np.mean(utilitiesArray.argmax(axis=1) == 0)"
   ]
  },
  {
   "cell_type": "code",
   "execution_count": 20,
   "metadata": {
    "collapsed": true
   },
   "outputs": [],
   "source": [
    "predictedgrades = []\n",
    "grades = [\"A\", \"B\", \"C\", \"D\", \"E\", \"F\", \"G\"]\n",
    "for i in range(utilitiesArray.shape[0]):\n",
    "    predictedgrades.append(grades[utilitiesArray[i].argmax()])\n",
    "    \n",
    "actualgrades = []\n",
    "grades = [\"A\", \"B\", \"C\", \"D\", \"E\", \"F\", \"G\"]\n",
    "for i in range(utilitiesArray.shape[0]):\n",
    "    actualgrades.append(grades[indicatorArray[i].argmax()])"
   ]
  },
  {
   "cell_type": "code",
   "execution_count": 34,
   "metadata": {
    "collapsed": true
   },
   "outputs": [],
   "source": [
    "from collections import Counter\n",
    "predicteddist = dict(sorted(Counter(predictedgrades).items()))\n",
    "actualdist = dict(sorted(Counter(actualgrades).items()))"
   ]
  },
  {
   "cell_type": "code",
   "execution_count": 41,
   "metadata": {},
   "outputs": [
    {
     "data": {
      "image/png": "iVBORw0KGgoAAAANSUhEUgAAAagAAAEYCAYAAAAJeGK1AAAABHNCSVQICAgIfAhkiAAAAAlwSFlz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\nu2s9fD9hAAAAAElFTkSuQmCC\n",
      "text/plain": [
       "<Figure size 432x288 with 2 Axes>"
      ]
     },
     "metadata": {},
     "output_type": "display_data"
    }
   ],
   "source": [
    "plt.subplot(2,1,1)\n",
    "plt.bar(predicteddist.keys(), predicteddist.values())\n",
    "plt.ylabel(\"Count (Predicted)\")\n",
    "plt.title(\"Distribution of Loan Grades\")\n",
    "plt.subplot(2,1,2)\n",
    "plt.bar(actualdist.keys(), actualdist.values())\n",
    "plt.xlabel(\"Grade\")\n",
    "plt.ylabel(\"Count (Actual)\")\n",
    "plt.tight_layout()\n",
    "plt.savefig(\"gradedistributions.pdf\")\n",
    "plt.show()"
   ]
  },
  {
   "cell_type": "markdown",
   "metadata": {},
   "source": [
    "## Polynomial regression"
   ]
  },
  {
   "cell_type": "code",
   "execution_count": 46,
   "metadata": {},
   "outputs": [
    {
     "data": {
      "text/plain": [
       "array([[  1.00000000e+00,   2.20000000e+04,   7.60000000e+04, ...,\n",
       "          0.00000000e+00,   0.00000000e+00,   0.00000000e+00],\n",
       "       [  1.00000000e+00,   4.00000000e+03,   6.40000000e+04, ...,\n",
       "          1.00000000e+00,   0.00000000e+00,   0.00000000e+00],\n",
       "       [  1.00000000e+00,   1.05000000e+04,   3.10000000e+04, ...,\n",
       "          0.00000000e+00,   0.00000000e+00,   0.00000000e+00],\n",
       "       [  1.00000000e+00,   3.50000000e+04,   1.46000000e+05, ...,\n",
       "          0.00000000e+00,   0.00000000e+00,   0.00000000e+00],\n",
       "       [  1.00000000e+00,   5.00000000e+03,   2.63900000e+04, ...,\n",
       "          0.00000000e+00,   0.00000000e+00,   0.00000000e+00]])"
      ]
     },
     "execution_count": 46,
     "metadata": {},
     "output_type": "execute_result"
    }
   ],
   "source": [
    "from sklearn.preprocessing import PolynomialFeatures\n",
    "\n",
    "def predict_MLP(train_features, train_labels, test_features):\n",
    "    train_features_no_int = train_features.iloc[:, :107].drop(\"int_rate_num\", 1)\n",
    "    test_features_no_int = test_features.iloc[:, :107].drop(\"int_rate_num\", 1)\n",
    "\n",
    "    for grade in [\"A\", \"B\", \"C\", \"D\", \"E\", \"F\", \"G\"]: \n",
    "\n",
    "        mlp_fail_rate = MLPRegressor()\n",
    "        mlp_fail_rate.fit(train_features_no_int[train_labels[\"grade_\" + grade] == 1], \n",
    "                          train_labels[train_labels[\"grade_\" + grade] == 1][\"bad\"])\n",
    "        test_features[\"MLP_pred_fail_rate_\" + grade] = mlp_fail_rate.predict(test_features_no_int)\n",
    "\n",
    "#         mask = (train_labels[\"grade_\" + grade] == 1) & (train_labels[\"bad\"] == 1)\n",
    "#         lr_rec_rate = sm.OLS(train_labels[mask][\"return\"], sm.add_constant(train_features_no_int[mask])).fit()\n",
    "#         test_features[\"pred_rec_rate_\" + grade] = lr_rec_rate.predict(test_features_no_int)\n",
    "\n",
    "#         lr_rec_rate2 = sm.OLS(train_labels[mask][\"return\"] ** 2, sm.add_constant(train_features_no_int[mask])).fit()\n",
    "#         test_features[\"pred_rec_rate2_\" + grade] = lr_rec_rate2.predict(test_features_no_int)\n",
    "\n",
    "#         r = np.mean(train_features[train_labels[\"grade_\" + grade] == 1][\"int_rate_num\"])\n",
    "\n",
    "#         test_features[\"exp_R_\" + grade] = ((1 + r) * (1 - test_features[\"pred_fail_rate_\" + grade]) +\n",
    "#                              test_features[\"pred_rec_rate_\" + grade] * test_features[\"pred_fail_rate_\" + grade])\n",
    "\n",
    "#         test_features[\"var_R_\" + grade] = ((1 + r)**2 * (1 - test_features[\"pred_fail_rate_\" + grade]) +\n",
    "#                              test_features[\"pred_rec_rate2_\" + grade] * test_features[\"pred_fail_rate_\" + grade] \n",
    "#                              - test_features[\"exp_R_\" + grade]**2)\n",
    "    return\n",
    "\n",
    "PolynomialFeatures().fit_transform(train_features.head())"
   ]
  },
  {
   "cell_type": "markdown",
   "metadata": {},
   "source": [
    "## Bootstrap"
   ]
  },
  {
   "cell_type": "code",
   "execution_count": null,
   "metadata": {
    "collapsed": true
   },
   "outputs": [],
   "source": [
    "#Bootstrapping standard errors\n",
    "\n",
    "from sklearn.utils import resample\n",
    "\n",
    "iterations = 5\n",
    "size = int(len())\n",
    "\n",
    "\n",
    "\n",
    "for i in range(iterations):\n",
    "    # sample data\n",
    "    #boostrapping the training data\n",
    "    \n",
    "    bs_train_features = resample(train_features, n_samples = len(train_features))\n",
    "    bs_train_labels = resample(train_labels, n_samples = len(train_labels))\n",
    "    \n",
    "    #bs_test_features = resample(test_features, n_samples = len(test_features))\n",
    "    #bs_test_labels = resample(test_labels, n_samples = len(test_features))\n",
    "    \n",
    "\n",
    "    #creating predicted fail rate\n",
    "    lr = LogisticRegression()\n",
    "    lr.fit(bs_train_features, bs_train_labels[\"bad\"])\n",
    "    test_features['pred_fail_rate'] = lr.predict_proba(bs_test_features)[:, 1]\n",
    "    \n",
    "    \n",
    "    #predicted recovery rate and expected return and variance\n",
    "    linreg_rec_rate = sm.OLS(bs_train_labels[bs_train_labels.bad == 1][\"return\"], \n",
    "                         sm.add_constant(bs_train_features[bs_train_labels.bad == 1])).fit()\n",
    "    linreg_rec_rate.summary()\n",
    "    test_features[\"pred_rec_rate\"] = linreg_rec_rate.predict(test_features.drop(\"pred_fail_rate\", 1))\n",
    "    \n",
    "    test_features[\"exp_R\"] = ((1 + test_features[\"int_rate_num\"]) * (1 - test_features[\"pred_fail_rate\"]) +\n",
    "                         test_features[\"pred_rec_rate\"] * test_features[\"pred_fail_rate\"])\n",
    "    \n",
    "    linreg_rec_rate2 = sm.OLS(bs_train_labels[bs_train_labels.bad == 1][\"return\"] ** 2, \n",
    "                         sm.add_constant(bs_train_features[bs_train_labels.bad == 1])).fit()\n",
    "    linreg_rec_rate2.summary()\n",
    "    test_features[\"pred_rec_rate2\"] = linreg_rec_rate2.predict(sm.add_constant(test_features.iloc[:,:107]))\n",
    "\n",
    "    test_features[\"var_R\"] = ((1 + test_features[\"int_rate_num\"])**2 * (1 - test_features[\"pred_fail_rate\"]) +\n",
    "                         test_features[\"pred_rec_rate2\"] * test_features[\"pred_fail_rate\"] \n",
    "                         - test_features[\"exp_R\"]**2)\n",
    "    \n",
    "    \n",
    "    #expected return and variance by grade\n",
    "    bs_train_features_no_int = bs_train_features.iloc[:, :107].drop(\"int_rate_num\", 1)\n",
    "    test_features_no_int = test_features.iloc[:, :107].drop(\"int_rate_num\", 1)\n",
    "\n",
    "    for grade in [\"A\", \"B\", \"C\", \"D\", \"E\", \"F\", \"G\"]: \n",
    "    \n",
    "        lr_fail_rate = LogisticRegression()\n",
    "        lr_fail_rate.fit(bs_train_features_no_int[bs_train_labels[\"grade_\" + grade] == 1], \n",
    "                     bs_train_labels[bs_train_labels[\"grade_\" + grade] == 1][\"bad\"])\n",
    "        test_features[\"pred_fail_rate_\" + grade] = lr_fail_rate.predict_proba(test_features_no_int)[:, 1]\n",
    "    \n",
    "        mask = (bs_train_labels[\"grade_\" + grade] == 1) & (bs_train_labels[\"bad\"] == 1)\n",
    "        lr_rec_rate = sm.OLS(bs_train_labels[mask][\"return\"], sm.add_constant(bs_train_features_no_int[mask])).fit()\n",
    "        test_features[\"pred_rec_rate_\" + grade] = lr_rec_rate.predict(test_features_no_int)\n",
    "    \n",
    "        lr_rec_rate2 = sm.OLS(bs_train_labels[mask][\"return\"] ** 2, sm.add_constant(bs_train_features_no_int[mask])).fit()\n",
    "        test_features[\"pred_rec_rate2_\" + grade] = lr_rec_rate2.predict(test_features_no_int)\n",
    "    \n",
    "        r = np.mean(bs_train_features[bs_train_labels[\"grade_\" + grade] == 1][\"int_rate_num\"])\n",
    "    \n",
    "        test_features[\"exp_R_\" + grade] = ((1 + r) * (1 - test_features[\"pred_fail_rate_\" + grade]) +\n",
    "                         test_features[\"pred_rec_rate_\" + grade] * test_features[\"pred_fail_rate_\" + grade])\n",
    "    \n",
    "        test_features[\"var_R_\" + grade] = ((1 + r)**2 * (1 - test_features[\"pred_fail_rate_\" + grade]) +\n",
    "                        test_features[\"pred_rec_rate2_\" + grade] * test_features[\"pred_fail_rate_\" + grade] \n",
    "                         - test_features[\"exp_R_\" + grade]**2)\n",
    "    \n",
    "    #bootstrapping test_data\n",
    "    bs_test_features = resample(test_features, n_samples = len(test_features))\n",
    "    bs_test_labels = resample(test_labels, n_samples = len(test_labels))\n",
    "    \n",
    "    \n",
    "    results = scipy.optimize.minimize(nllh, [0,0,0], args=(bs_test_features, bs_test_labels), method='Nelder-Mead')['x']\n",
    "    # getting betas\n",
    "    b1.append(results[0])\n",
    "    b2.append(results[1])\n",
    "    b3.append(results[2])\n",
    "\n",
    "#standard errors\n",
    "se_b1 = np.std(b1)\n",
    "se_b2 = np.std(b2)\n",
    "se_b3 = np.std(b3)"
   ]
  },
  {
   "cell_type": "markdown",
   "metadata": {},
   "source": [
    "## Marginal Effects"
   ]
  },
  {
   "cell_type": "code",
   "execution_count": 38,
   "metadata": {
    "collapsed": true
   },
   "outputs": [],
   "source": [
    "#getting the MLE utility array \\beta' x using the estimated betas from the estimation\n",
    "\n",
    "est_betas = np.array([6.43002213, -53.826577])\n",
    "utilities = {}\n",
    "for grade in [\"A\", \"B\", \"C\", \"D\", \"E\", \"F\", \"G\"]:\n",
    "utilities[grade] = np.dot(features[[\"exp_R_\" + grade, \"var_R_\" + grade]].values, est_betas)\n",
    "est_utilitiesArray = pd.DataFrame(utilities).values\n",
    "\n",
    "\n",
    "#defining the CDF of the logistic distribution\n",
    "\n",
    "def lambda_(x):\n",
    "    res = np.exp(x)/(1+exp(x))\n",
    "    return(res)\n",
    "    \n",
    "#logistic density function (derivative of logistic CDF)\n",
    "\n",
    "def gamma(x):\n",
    "    res = lambda_(x)/(1-lambda_(x))\n",
    "    return(res)\n",
    "\n",
    "#marginal effect is the logistic density fucntion times the beta \n",
    "#should return an array of the marginal change in the expected probability given a feature ∂E(y|x)/∂x\n",
    "\n",
    "def marginal_effect(x):\n",
    "    res = np.dot(gamma(x), est_betas)\n",
    "    return(res)"
   ]
  },
  {
   "cell_type": "markdown",
   "metadata": {},
   "source": [
    "## How well does the mean variance paradigm perform out of sample?"
   ]
  },
  {
   "cell_type": "code",
   "execution_count": null,
   "metadata": {
    "collapsed": true
   },
   "outputs": [],
   "source": [
    "#predict utilities of assigning a given loan to a grade, run the matching algorithm then compare results"
   ]
  },
  {
   "cell_type": "code",
   "execution_count": 161,
   "metadata": {},
   "outputs": [
    {
     "name": "stderr",
     "output_type": "stream",
     "text": [
      "/anaconda3/lib/python3.6/site-packages/IPython/core/magics/execution.py:761: DtypeWarning: Columns (0,19) have mixed types. Specify dtype option on import or set low_memory=False.\n",
      "  exit_ignore=exit_ignore)\n"
     ]
    }
   ],
   "source": [
    "%run load_oos_data.py"
   ]
  },
  {
   "cell_type": "code",
<<<<<<< HEAD
   "execution_count": 162,
   "metadata": {},
=======
   "execution_count": 3,
   "metadata": {
    "collapsed": true
   },
>>>>>>> 20e65efc1e76b60fd68a2ded76366ce9238e0f5e
   "outputs": [],
   "source": [
    "# Regressions of rates on personal characteristics\n",
    "\n",
    "from sklearn.linear_model import LogisticRegression\n",
    "\n",
    "features_no_int = features.iloc[:, :107].drop(\"int_rate_num\", 1)"
   ]
  },
  {
   "cell_type": "code",
   "execution_count": 163,
   "metadata": {},
   "outputs": [
    {
     "name": "stderr",
     "output_type": "stream",
     "text": [
      "/anaconda3/lib/python3.6/site-packages/sklearn/linear_model/base.py:340: RuntimeWarning: overflow encountered in exp\n",
      "  np.exp(prob, prob)\n"
     ]
    }
   ],
   "source": [
    "for grade in [\"A\", \"B\", \"C\", \"D\", \"E\", \"F\", \"G\"]: \n",
    "    \n",
    "    lr_fail_rate = LogisticRegression()\n",
    "    lr_fail_rate.fit(features_no_int[labels[\"grade_\" + grade] == 1], \n",
    "                     labels[labels[\"grade_\" + grade] == 1][\"bad\"])\n",
    "    features[\"pred_fail_rate_\" + grade] = lr_fail_rate.predict_proba(features_no_int)[:, 1]\n",
    "    \n",
    "    mask = (labels[\"grade_\" + grade] == 1) & (labels[\"bad\"] == 1)\n",
    "    \n",
    "    lr_rec_rate = sm.OLS(labels[mask][\"return\"], sm.add_constant(features_no_int[mask])).fit()\n",
    "    features[\"pred_rec_rate_\" + grade] = lr_rec_rate.predict(features_no_int)\n",
    "    \n",
    "    lr_rec_rate2 = sm.OLS(labels[mask][\"return\"] ** 2, sm.add_constant(features_no_int[mask])).fit()\n",
    "    features[\"pred_rec_rate2_\" + grade] = lr_rec_rate2.predict(features_no_int)\n",
    "    \n",
    "    r = np.mean(features[labels[\"grade_\" + grade] == 1][\"int_rate_num\"])\n",
    "    \n",
    "    features[\"exp_R_\" + grade] = ((1 + r) * (1 - features[\"pred_fail_rate_\" + grade]) +\n",
    "                         features[\"pred_rec_rate_\" + grade] * features[\"pred_fail_rate_\" + grade])\n",
    "    \n",
    "    features[\"var_R_\" + grade] = ((1 + r)**2 * (1 - features[\"pred_fail_rate_\" + grade]) +\n",
    "                         features[\"pred_rec_rate2_\" + grade] * features[\"pred_fail_rate_\" + grade] \n",
    "                         - features[\"exp_R_\" + grade]**2)"
   ]
  },
  {
   "cell_type": "code",
   "execution_count": 164,
   "metadata": {},
   "outputs": [
    {
     "data": {
      "image/png": "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\n",
      "text/plain": [
       "<matplotlib.figure.Figure at 0x1c7e00b198>"
      ]
     },
     "metadata": {},
     "output_type": "display_data"
    }
   ],
   "source": [
    "for grade in [\"A\", \"B\", \"C\", \"D\", \"E\", \"F\", \"G\"]:\n",
    "    plt.plot(features[labels[\"grade_\" + grade] == 1][\"exp_R_\" + grade], \n",
    "             features[labels[\"grade_\" + grade] == 1][\"var_R_\" + grade], \n",
    "             marker='o', linestyle='', label=grade, alpha = 0.25)\n",
    "\n",
    "plt.legend()\n",
    "plt.title(\"Loans by Estimated Return and Variance\")\n",
    "plt.xlabel(\"Return\")\n",
    "plt.ylabel(\"Variance\")\n",
    "fig1 = plt.gcf()\n",
    "fig1.savefig('returnvariance.png', dpi=200)\n",
    "plt.show()"
   ]
  },
  {
   "cell_type": "code",
<<<<<<< HEAD
   "execution_count": 165,
   "metadata": {},
=======
   "execution_count": 6,
   "metadata": {
    "collapsed": true
   },
>>>>>>> 20e65efc1e76b60fd68a2ded76366ce9238e0f5e
   "outputs": [],
   "source": [
    "est_betas = np.array([6.43002213, -53.826577])\n",
    "utilities = {}\n",
    "for grade in [\"A\", \"B\", \"C\", \"D\", \"E\", \"F\", \"G\"]:\n",
    "    utilities[grade] = np.dot(features[[\"exp_R_\" + grade, \"var_R_\" + grade]].values, est_betas)\n",
    "    est_utilitiesFrame = pd.DataFrame(utilities)"
   ]
  },
  {
   "cell_type": "code",
<<<<<<< HEAD
   "execution_count": 166,
   "metadata": {},
=======
   "execution_count": 18,
   "metadata": {
    "collapsed": true
   },
>>>>>>> 20e65efc1e76b60fd68a2ded76366ce9238e0f5e
   "outputs": [],
   "source": [
    "#final step I gotta run the matching algo\n",
    "cap = pd.DataFrame([0])\n",
    "for grade in [\"A\", \"B\", \"C\", \"D\", \"E\", \"F\", \"G\"]:\n",
    "    cap[grade] = np.sum(labels['grade_' + grade])"
   ]
  },
  {
   "cell_type": "code",
<<<<<<< HEAD
   "execution_count": 167,
   "metadata": {},
   "outputs": [],
   "source": [
    "from IPython import display"
   ]
  },
  {
   "cell_type": "code",
   "execution_count": 168,
   "metadata": {},
=======
   "execution_count": 50,
   "metadata": {
    "collapsed": true
   },
>>>>>>> 20e65efc1e76b60fd68a2ded76366ce9238e0f5e
   "outputs": [],
   "source": [
    "#matching algo\n",
    "def matching_algorithm(data, capacities):\n",
    "    grade_list = [\"A\", \"B\", \"C\", \"D\", \"E\", \"F\", \"G\"]   \n",
    "    for i in range(len(data)):\n",
    "        m = max(est_utilitiesFrame[grade_list].iloc[i])\n",
    "        for grade in grade_list:\n",
    "            if est_utilitiesFrame[grade][i] == m: \n",
    "                data.iloc[i] = 0\n",
    "                data[grade][i] = 1\n",
    "            \n",
    "            if sum(est_utilitiesFrame[grade].loc[est_utilitiesFrame[grade] == 1.0]) == capacities[grade].values:\n",
    "                grade_list.remove(grade) \n",
    "        \n",
    "        print(str(i) + ' matched')\n",
    "        display.clear_output(wait=False)\n",
    "    return(data)\n",
    "\n",
    "\n",
    "final_matching = matching_algorithm(est_utilitiesFrame, cap)"
   ]
  },
  {
   "cell_type": "code",
<<<<<<< HEAD
   "execution_count": 179,
   "metadata": {},
   "outputs": [
    {
     "data": {
      "text/plain": [
       "['return and variance predict 17.2 % of matches for grade A',\n",
       " 'return and variance predict 23.3 % of matches for grade B',\n",
       " 'return and variance predict 25.4 % of matches for grade C',\n",
       " 'return and variance predict 16.2 % of matches for grade D',\n",
       " 'return and variance predict 6.73 % of matches for grade E',\n",
       " 'return and variance predict 2.62 % of matches for grade F',\n",
       " 'return and variance predict 0.14 % of matches for grade G']"
      ]
     },
     "execution_count": 179,
     "metadata": {},
     "output_type": "execute_result"
    }
   ],
=======
   "execution_count": 123,
   "metadata": {
    "collapsed": true
   },
   "outputs": [],
>>>>>>> 20e65efc1e76b60fd68a2ded76366ce9238e0f5e
   "source": [
    "#finding mathcing values between mathcing algo output and real matches\n",
    "l = []\n",
    "for grade in [\"A\", \"B\", \"C\", \"D\", \"E\", \"F\", \"G\"]:\n",
    "    a = final_matching.loc[final_matching[grade] == 1].index.tolist()\n",
    "    b = labels.loc[labels['grade_'+grade] == 1].index.tolist()\n",
    "    res = (len(set(a).intersection(b)))/len(b)*100\n",
    "    l.append('return and variance predict ' + str(res)[:4] + ' % of matches for grade ' + grade)\n",
    "\n",
    "l"
   ]
  },
  {
   "cell_type": "code",
   "execution_count": 180,
   "metadata": {},
   "outputs": [],
   "source": [
    "final_matching.to_csv('final_matching.csv')"
   ]
  },
  {
   "cell_type": "code",
   "execution_count": null,
   "metadata": {},
   "outputs": [],
   "source": []
  }
 ],
 "metadata": {
  "kernelspec": {
   "display_name": "Python 3",
   "language": "python",
   "name": "python3"
  },
  "language_info": {
   "codemirror_mode": {
    "name": "ipython",
    "version": 3
   },
   "file_extension": ".py",
   "mimetype": "text/x-python",
   "name": "python",
   "nbconvert_exporter": "python",
   "pygments_lexer": "ipython3",
   "version": "3.6.1"
  }
 },
 "nbformat": 4,
 "nbformat_minor": 2
}
