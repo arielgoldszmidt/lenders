{
 "cells": [
  {
   "cell_type": "markdown",
   "metadata": {},
   "source": [
    "## Import libraries and data"
   ]
  },
  {
   "cell_type": "code",
   "execution_count": 21,
   "metadata": {},
   "outputs": [
    {
     "name": "stderr",
     "output_type": "stream",
     "text": [
      "/anaconda3/lib/python3.6/site-packages/IPython/core/magics/execution.py:761: DtypeWarning: Columns (0,47) have mixed types. Specify dtype option on import or set low_memory=False.\n",
      "  exit_ignore=exit_ignore)\n"
     ]
    }
   ],
   "source": [
    "%run load_data.py"
   ]
  },
  {
   "cell_type": "markdown",
   "metadata": {},
   "source": [
    "## Plot loan grade distributions"
   ]
  },
  {
   "cell_type": "code",
   "execution_count": 22,
   "metadata": {},
   "outputs": [
    {
     "data": {
      "image/png": "[encoded data removed]",
      "text/plain": [
       "<matplotlib.figure.Figure at 0x10b9efdd8>"
      ]
     },
     "metadata": {},
     "output_type": "display_data"
    }
   ],
   "source": [
    "# Plot distribution of interest rates for each loan grade\n",
    "\n",
    "for grade in ['A', 'B', 'C', 'D', 'E', 'F', 'G']:\n",
    "    subset = frame['grade'] == grade\n",
    "    frame['int_rate_num'][subset].hist(label = grade, normed = True, alpha = 0.75)\n",
    "\n",
    "plt.legend()\n",
    "plt.title(\"Interest Rates by Loan Grades\")\n",
    "plt.ylabel(\"Count\")\n",
    "plt.xlabel(\"Interest Rate\")\n",
    "plt.savefig(\"interestratehistogram.png\", dpi=200)\n",
    "plt.show()"
   ]
  },
  {
   "cell_type": "markdown",
   "metadata": {},
   "source": [
    "## Logistic Regression"
   ]
  },
  {
   "cell_type": "code",
   "execution_count": 23,
   "metadata": {
    "collapsed": true
   },
   "outputs": [],
   "source": [
    "# Logistic regression of probability of going bad on pre-application characteristics\n",
    "\n",
    "from sklearn.linear_model import LogisticRegression\n",
    "\n",
    "lr = LogisticRegression()\n",
    "lr.fit(train_features, train_labels[\"bad\"])\n",
    "test_features['pred_fail_rate'] = lr.predict_proba(test_features)[:, 1]"
   ]
  },
  {
   "cell_type": "markdown",
   "metadata": {},
   "source": [
    "## Linear regression"
   ]
  },
  {
   "cell_type": "code",
   "execution_count": 24,
   "metadata": {},
   "outputs": [
    {
     "data": {
      "text/plain": [
       "LinearRegression(copy_X=True, fit_intercept=True, n_jobs=1, normalize=False)"
      ]
     },
     "execution_count": 24,
     "metadata": {},
     "output_type": "execute_result"
    }
   ],
   "source": [
    "from sklearn import linear_model\n",
    "\n",
    "linreg = linear_model.LinearRegression()\n",
    "linreg.fit(train_features, train_labels[\"bad\"])"
   ]
  },
  {
   "cell_type": "code",
   "execution_count": null,
   "metadata": {},
   "outputs": [],
   "source": [
    "import statsmodels.api as sm\n",
    "linregCO = sm.OLS(train_labels[\"bad\"], sm.add_constant(train_features)).fit()\n",
    "linregCO.summary()"
   ]
  },
  {
   "cell_type": "markdown",
   "metadata": {},
   "source": [
    "## Explore returns"
   ]
  },
  {
   "cell_type": "code",
   "execution_count": null,
   "metadata": {
    "collapsed": true
   },
   "outputs": [],
   "source": [
    "linreg_ret = sm.OLS(train_labels[\"return\"], sm.add_constant(train_features)).fit()\n",
    "linreg_ret.summary()"
   ]
  },
  {
   "cell_type": "code",
   "execution_count": null,
   "metadata": {},
   "outputs": [],
   "source": [
    "linreg_rec = sm.OLS(train_labels[train_labels.bad == 0][\"return\"], \n",
    "                    sm.add_constant(train_features[train_labels.bad == 0])).fit()\n",
    "linreg_rec.summary()"
   ]
  },
  {
   "cell_type": "code",
   "execution_count": null,
   "metadata": {},
   "outputs": [],
   "source": [
    "linreg_rec_rate = sm.OLS(train_labels[train_labels.bad == 1][\"return\"], \n",
    "                         sm.add_constant(train_features[train_labels.bad == 1])).fit()\n",
    "linreg_rec_rate.summary()\n",
    "test_features[\"pred_rec_rate\"] = linreg_rec_rate.predict(test_features.drop(\"pred_fail_rate\", 1))"
   ]
  },
  {
   "cell_type": "code",
   "execution_count": 29,
   "metadata": {},
   "outputs": [
    {
     "data": {
      "text/plain": [
       "array([[ 1.        , -0.17419685],\n",
       "       [-0.17419685,  1.        ]])"
      ]
     },
     "execution_count": 29,
     "metadata": {},
     "output_type": "execute_result"
    }
   ],
   "source": [
    "np.corrcoef(test_features[[\"pred_fail_rate\", \"pred_rec_rate\"]], rowvar=0)"
   ]
  },
  {
   "cell_type": "code",
   "execution_count": 30,
   "metadata": {
    "collapsed": true
   },
   "outputs": [],
   "source": [
    "# Compute expected gross return R\n",
    "\n",
    "test_features[\"exp_R\"] = ((1 + test_features[\"int_rate_num\"]) * (1 - test_features[\"pred_fail_rate\"]) +\n",
    "                         test_features[\"pred_rec_rate\"] * test_features[\"pred_fail_rate\"])"
   ]
  },
  {
   "cell_type": "markdown",
   "metadata": {},
   "source": [
    "## Are cross moments predictable?"
   ]
  },
  {
   "cell_type": "code",
   "execution_count": 31,
   "metadata": {
    "collapsed": true
   },
   "outputs": [],
   "source": [
    "features1 = train_features.iloc[:1000, :20].copy()\n",
    "labels1 = train_labels.iloc[:1000, :20].copy()\n",
    "features2 = train_features.iloc[1000:2000, :20].copy()\n",
    "labels2 = train_labels.iloc[1000:2000, :20].copy()"
   ]
  },
  {
   "cell_type": "markdown",
   "metadata": {},
   "source": [
    "## Predicting variances"
   ]
  },
  {
   "cell_type": "code",
   "execution_count": null,
   "metadata": {},
   "outputs": [],
   "source": [
    "linreg_rec_rate2 = sm.OLS(train_labels[train_labels.bad == 1][\"return\"] ** 2, \n",
    "                         sm.add_constant(train_features[train_labels.bad == 1])).fit()\n",
    "linreg_rec_rate2.summary()\n",
    "test_features[\"pred_rec_rate2\"] = linreg_rec_rate2.predict(sm.add_constant(test_features.iloc[:,:107]))\n",
    "\n",
    "test_features[\"var_R\"] = ((1 + test_features[\"int_rate_num\"])**2 * (1 - test_features[\"pred_fail_rate\"]) +\n",
    "                         test_features[\"pred_rec_rate2\"] * test_features[\"pred_fail_rate\"] \n",
    "                         - test_features[\"exp_R\"]**2)"
   ]
  },
  {
   "cell_type": "markdown",
   "metadata": {},
   "source": [
    "## Skewness"
   ]
  },
  {
   "cell_type": "code",
   "execution_count": null,
   "metadata": {
    "collapsed": true
   },
   "outputs": [],
   "source": [
    "linreg_rec_rate3 = sm.OLS(train_labels[train_labels.bad == 1][\"return\"] ** 3, \n",
    "                         sm.add_constant(train_features[train_labels.bad == 1])).fit()\n",
    "linreg_rec_rate3.summary()\n",
    "\n",
    "test_features[\"pred_rec_rate3\"] = linreg_rec_rate3.predict(test_features.iloc[:, :107])\n",
    "\n",
    "test_features[\"exp_R3\"] = ((1 + test_features[\"int_rate_num\"])**3 * (1 - test_features[\"pred_fail_rate\"]) +\n",
    "                           test_features[\"pred_rec_rate3\"] * test_features[\"pred_fail_rate\"])\n",
    "\n",
    "test_features.eval(\"skew_R = (exp_R3 - 3 * exp_R * var_R - exp_R ** 3)\", inplace=True)"
   ]
  },
  {
   "cell_type": "code",
   "execution_count": null,
   "metadata": {
    "collapsed": true
   },
   "outputs": [],
   "source": [
    "sm.OLS(grades[\"grade_A\"], sm.add_constant(test_features[[\"var_R\", \"skew_R\"]])).fit(cov_type='HC0').summary()"
   ]
  },
  {
   "cell_type": "code",
   "execution_count": null,
   "metadata": {
    "collapsed": true
   },
   "outputs": [],
   "source": [
    "import statsmodels.stats.outliers_influence\n",
    "\n",
    "statsmodels.stats.outliers_influence.variance_inflation_factor(test_features[[\"var_R\", \"skew_R\"]].values, 1)"
   ]
  },
  {
   "cell_type": "markdown",
   "metadata": {},
   "source": [
    "## Separate Regressions for Each Loan Grade"
   ]
  },
  {
   "cell_type": "code",
   "execution_count": null,
   "metadata": {},
   "outputs": [],
   "source": [
    "# Regressions of rates on personal characteristics\n",
    "\n",
    "from sklearn.linear_model import LogisticRegression\n",
    "\n",
    "train_features_no_int = train_features.iloc[:, :107].drop(\"int_rate_num\", 1)\n",
    "test_features_no_int = test_features.iloc[:, :107].drop(\"int_rate_num\", 1)\n",
    "\n",
    "for grade in [\"A\", \"B\", \"C\", \"D\", \"E\", \"F\", \"G\"]: \n",
    "    \n",
    "    lr_fail_rate = LogisticRegression()\n",
    "    lr_fail_rate.fit(train_features_no_int[train_labels[\"grade_\" + grade] == 1], \n",
    "                     train_labels[train_labels[\"grade_\" + grade] == 1][\"bad\"])\n",
    "    test_features[\"pred_fail_rate_\" + grade] = lr_fail_rate.predict_proba(test_features_no_int)[:, 1]\n",
    "    \n",
    "    mask = (train_labels[\"grade_\" + grade] == 1) & (train_labels[\"bad\"] == 1)\n",
    "    lr_rec_rate = sm.OLS(train_labels[mask][\"return\"], sm.add_constant(train_features_no_int[mask])).fit()\n",
    "    test_features[\"pred_rec_rate_\" + grade] = lr_rec_rate.predict(test_features_no_int)\n",
    "    \n",
    "    lr_rec_rate2 = sm.OLS(train_labels[mask][\"return\"] ** 2, sm.add_constant(train_features_no_int[mask])).fit()\n",
    "    test_features[\"pred_rec_rate2_\" + grade] = lr_rec_rate2.predict(test_features_no_int)\n",
    "    \n",
    "    r = np.mean(train_features[train_labels[\"grade_\" + grade] == 1][\"int_rate_num\"])\n",
    "    \n",
    "    test_features[\"exp_R_\" + grade] = ((1 + r) * (1 - test_features[\"pred_fail_rate_\" + grade]) +\n",
    "                         test_features[\"pred_rec_rate_\" + grade] * test_features[\"pred_fail_rate_\" + grade])\n",
    "    \n",
    "    test_features[\"var_R_\" + grade] = ((1 + r)**2 * (1 - test_features[\"pred_fail_rate_\" + grade]) +\n",
    "                         test_features[\"pred_rec_rate2_\" + grade] * test_features[\"pred_fail_rate_\" + grade] \n",
    "                         - test_features[\"exp_R_\" + grade]**2)"
   ]
  },
  {
   "cell_type": "code",
   "execution_count": null,
   "metadata": {},
   "outputs": [],
   "source": [
    "for grade in [\"A\", \"B\", \"C\", \"D\", \"E\", \"F\", \"G\"]:\n",
    "    plt.plot(test_features[test_labels[\"grade_\" + grade] == 1][\"exp_R_\" + grade], \n",
    "             test_features[test_labels[\"grade_\" + grade] == 1][\"var_R_\" + grade], \n",
    "             marker='o', linestyle='', label=grade, alpha = 0.25)\n",
    "\n",
    "plt.legend()\n",
    "plt.title(\"Loans by Estimated Return and Variance\")\n",
    "plt.xlabel(\"Return\")\n",
    "plt.ylabel(\"Variance\")\n",
    "fig1 = plt.gcf()\n",
    "fig1.savefig('returnvariance.png', dpi=200)\n",
    "plt.show()"
   ]
  },
  {
   "cell_type": "markdown",
   "metadata": {},
   "source": [
    "## ML Discrete Choice Model"
   ]
  },
  {
   "cell_type": "code",
   "execution_count": 53,
   "metadata": {
    "collapsed": true
   },
   "outputs": [],
   "source": [
    "# Define negative log-likelihood function\n",
    "\n",
    "def nllh(beta, features, labels):\n",
    "    utilities = {}\n",
    "    for grade in [\"A\", \"B\", \"C\", \"D\", \"E\", \"F\", \"G\"]:\n",
    "        utilities[grade] = np.dot(features[[\"exp_R_\" + grade, \"var_R_\" + grade]].values, beta)\n",
    "    utilitiesArray = pd.DataFrame(utilities).values\n",
    "    indicatorArray = labels[[\"grade_\" + x for x in [\"A\", \"B\", \"C\", \"D\", \"E\", \"F\", \"G\"]]].values\n",
    "    term1 = np.sum(utilitiesArray * indicatorArray, axis=1)\n",
    "    term2 = np.log(np.sum(np.exp(utilitiesArray), axis=1))\n",
    "    return -1 * np.sum(term1 - term2)\n",
    "\n",
    "def grad(beta, features, labels):\n",
    "    X1, X2 = {}, {}\n",
    "    utilities = {}\n",
    "    for grade in [\"A\", \"B\", \"C\", \"D\", \"E\", \"F\", \"G\"]:\n",
    "        X1[grade] = features[\"exp_R_\" + grade].values\n",
    "        X2[grade] = features[\"var_R_\" + grade].values\n",
    "        utilities[grade] = np.dot(features[[\"exp_R_\" + grade, \"var_R_\" + grade]].values, beta)\n",
    "    X1Array = pd.DataFrame(X1).values\n",
    "    X2Array = pd.DataFrame(X2).values\n",
    "    utilitiesArray = pd.DataFrame(utilities).values\n",
    "        \n",
    "    indicatorArray = labels[[\"grade_\" + x for x in [\"A\", \"B\", \"C\", \"D\", \"E\", \"F\", \"G\"]]].values\n",
    "    \n",
    "    d1 = (np.sum(X1Array * indicatorArray, axis=1) - \n",
    "     np.sum(np.exp(utilitiesArray) * X1Array, axis=1) / np.sum(np.exp(utilitiesArray), axis=1))\n",
    "    d2 = (np.sum(X2Array * indicatorArray, axis=1) - \n",
    "     np.sum(np.exp(utilitiesArray) * X2Array, axis=1) / np.sum(np.exp(utilitiesArray), axis=1))\n",
    "    \n",
    "    return -1 * np.array([np.sum(d1), np.sum(d2)])\n",
    "\n",
    "def nllh_restriction1(beta, features, labels):\n",
    "    utilities = {}\n",
    "    for grade in [\"A\", \"B\", \"C\", \"D\", \"E\", \"F\", \"G\"]:\n",
    "        utilities[grade] = features[\"var_R_\" + grade].values * beta\n",
    "    utilitiesArray = pd.DataFrame(utilities).values\n",
    "    indicatorArray = labels[[\"grade_\" + x for x in [\"A\", \"B\", \"C\", \"D\", \"E\", \"F\", \"G\"]]].values\n",
    "    term1 = np.sum(utilitiesArray * indicatorArray, axis=1)\n",
    "    term2 = np.log(np.sum(np.exp(utilitiesArray), axis=1))\n",
    "    return -1 * np.sum(term1 - term2)\n",
    "\n",
    "def nllh_restriction2(beta, features, labels):\n",
    "    utilities = {}\n",
    "    for grade in [\"A\", \"B\", \"C\", \"D\", \"E\", \"F\", \"G\"]:\n",
    "        utilities[grade] = features[\"exp_R_\" + grade].values * beta\n",
    "    utilitiesArray = pd.DataFrame(utilities).values\n",
    "    indicatorArray = labels[[\"grade_\" + x for x in [\"A\", \"B\", \"C\", \"D\", \"E\", \"F\", \"G\"]]].values\n",
    "    term1 = np.sum(utilitiesArray * indicatorArray, axis=1)\n",
    "    term2 = np.log(np.sum(np.exp(utilitiesArray), axis=1))\n",
    "    return -1 * np.sum(term1 - term2)"
   ]
  },
  {
   "cell_type": "code",
   "execution_count": 54,
   "metadata": {},
   "outputs": [
    {
     "data": {
      "text/plain": [
       "1491868.9880660886"
      ]
     },
     "execution_count": 54,
     "metadata": {},
     "output_type": "execute_result"
    }
   ],
   "source": [
    "nllh([0,0], test_features, test_labels)"
   ]
  },
  {
   "cell_type": "code",
   "execution_count": 50,
   "metadata": {},
   "outputs": [
    {
     "data": {
      "text/plain": [
       "      fun: 1322473.477544718\n",
       " hess_inv: array([[ 0.00825954, -0.00601519],\n",
       "       [-0.00601519,  0.01381828]])\n",
       "      jac: array([ -2.25960928e-09,  -3.28935007e-09])\n",
       "  message: 'Optimization terminated successfully.'\n",
       "     nfev: 35\n",
       "      nit: 11\n",
       "     njev: 33\n",
       "   status: 0\n",
       "  success: True\n",
       "        x: array([  6.43002213, -53.826577  ])"
      ]
     },
     "execution_count": 50,
     "metadata": {},
     "output_type": "execute_result"
    }
   ],
   "source": [
    "# Run maximum likelihood estimation\n",
    "\n",
    "import scipy.optimize\n",
    "\n",
    "scipy.optimize.minimize(nllh, [0,0], jac=grad, args=(test_features, test_labels), method='BFGS')"
   ]
  },
  {
   "cell_type": "code",
   "execution_count": 57,
   "metadata": {},
   "outputs": [
    {
     "data": {
      "text/plain": [
       "5063.53252073098"
      ]
     },
     "execution_count": 57,
     "metadata": {},
     "output_type": "execute_result"
    }
   ],
   "source": [
    "# Likelihood ratio tests\n",
    "\n",
    "llh_r = scipy.optimize.minimize(nllh_restriction1, [0], args=(test_features, test_labels), method='BFGS').fun\n",
    "-2 * (1322473.477544718 - llh_r)"
   ]
  },
  {
   "cell_type": "code",
   "execution_count": 58,
   "metadata": {},
   "outputs": [
    {
     "data": {
      "text/plain": [
       "278062.39080033684"
      ]
     },
     "execution_count": 58,
     "metadata": {},
     "output_type": "execute_result"
    }
   ],
   "source": [
    "llh_r = scipy.optimize.minimize(nllh_restriction2, [0], args=(test_features, test_labels), method='BFGS').fun\n",
    "-2 * (1322473.477544718 - llh_r)"
   ]
  },
  {
   "cell_type": "markdown",
   "metadata": {},
   "source": [
    "## Polynomial regression"
   ]
  },
  {
   "cell_type": "code",
   "execution_count": 46,
   "metadata": {},
   "outputs": [
    {
     "data": {
      "text/plain": [
       "array([[  1.00000000e+00,   2.20000000e+04,   7.60000000e+04, ...,\n",
       "          0.00000000e+00,   0.00000000e+00,   0.00000000e+00],\n",
       "       [  1.00000000e+00,   4.00000000e+03,   6.40000000e+04, ...,\n",
       "          1.00000000e+00,   0.00000000e+00,   0.00000000e+00],\n",
       "       [  1.00000000e+00,   1.05000000e+04,   3.10000000e+04, ...,\n",
       "          0.00000000e+00,   0.00000000e+00,   0.00000000e+00],\n",
       "       [  1.00000000e+00,   3.50000000e+04,   1.46000000e+05, ...,\n",
       "          0.00000000e+00,   0.00000000e+00,   0.00000000e+00],\n",
       "       [  1.00000000e+00,   5.00000000e+03,   2.63900000e+04, ...,\n",
       "          0.00000000e+00,   0.00000000e+00,   0.00000000e+00]])"
      ]
     },
     "execution_count": 46,
     "metadata": {},
     "output_type": "execute_result"
    }
   ],
   "source": [
    "from sklearn.preprocessing import PolynomialFeatures\n",
    "\n",
    "def predict_MLP(train_features, train_labels, test_features):\n",
    "    train_features_no_int = train_features.iloc[:, :107].drop(\"int_rate_num\", 1)\n",
    "    test_features_no_int = test_features.iloc[:, :107].drop(\"int_rate_num\", 1)\n",
    "\n",
    "    for grade in [\"A\", \"B\", \"C\", \"D\", \"E\", \"F\", \"G\"]: \n",
    "\n",
    "        mlp_fail_rate = MLPRegressor()\n",
    "        mlp_fail_rate.fit(train_features_no_int[train_labels[\"grade_\" + grade] == 1], \n",
    "                          train_labels[train_labels[\"grade_\" + grade] == 1][\"bad\"])\n",
    "        test_features[\"MLP_pred_fail_rate_\" + grade] = mlp_fail_rate.predict(test_features_no_int)\n",
    "\n",
    "#         mask = (train_labels[\"grade_\" + grade] == 1) & (train_labels[\"bad\"] == 1)\n",
    "#         lr_rec_rate = sm.OLS(train_labels[mask][\"return\"], sm.add_constant(train_features_no_int[mask])).fit()\n",
    "#         test_features[\"pred_rec_rate_\" + grade] = lr_rec_rate.predict(test_features_no_int)\n",
    "\n",
    "#         lr_rec_rate2 = sm.OLS(train_labels[mask][\"return\"] ** 2, sm.add_constant(train_features_no_int[mask])).fit()\n",
    "#         test_features[\"pred_rec_rate2_\" + grade] = lr_rec_rate2.predict(test_features_no_int)\n",
    "\n",
    "#         r = np.mean(train_features[train_labels[\"grade_\" + grade] == 1][\"int_rate_num\"])\n",
    "\n",
    "#         test_features[\"exp_R_\" + grade] = ((1 + r) * (1 - test_features[\"pred_fail_rate_\" + grade]) +\n",
    "#                              test_features[\"pred_rec_rate_\" + grade] * test_features[\"pred_fail_rate_\" + grade])\n",
    "\n",
    "#         test_features[\"var_R_\" + grade] = ((1 + r)**2 * (1 - test_features[\"pred_fail_rate_\" + grade]) +\n",
    "#                              test_features[\"pred_rec_rate2_\" + grade] * test_features[\"pred_fail_rate_\" + grade] \n",
    "#                              - test_features[\"exp_R_\" + grade]**2)\n",
    "    return\n",
    "\n",
    "PolynomialFeatures().fit_transform(train_features.head())"
   ]
  },
  {
   "cell_type": "markdown",
   "metadata": {},
   "source": [
    "## Bootstrap"
   ]
  },
  {
   "cell_type": "code",
   "execution_count": null,
   "metadata": {
    "collapsed": true
   },
   "outputs": [],
   "source": [
    "#Bootstrapping standard errors\n",
    "\n",
    "from sklearn.utils import resample\n",
    "\n",
    "iterations = 5\n",
    "size = int(len())\n",
    "\n",
    "\n",
    "\n",
    "for i in range(iterations):\n",
    "    # sample data\n",
    "    #boostrapping the training data\n",
    "    \n",
    "    bs_train_features = resample(train_features, n_samples = len(train_features))\n",
    "    bs_train_labels = resample(train_labels, n_samples = len(train_labels))\n",
    "    \n",
    "    #bs_test_features = resample(test_features, n_samples = len(test_features))\n",
    "    #bs_test_labels = resample(test_labels, n_samples = len(test_features))\n",
    "    \n",
    "\n",
    "    #creating predicted fail rate\n",
    "    lr = LogisticRegression()\n",
    "    lr.fit(bs_train_features, bs_train_labels[\"bad\"])\n",
    "    test_features['pred_fail_rate'] = lr.predict_proba(bs_test_features)[:, 1]\n",
    "    \n",
    "    \n",
    "    #predicted recovery rate and expected return and variance\n",
    "    linreg_rec_rate = sm.OLS(bs_train_labels[bs_train_labels.bad == 1][\"return\"], \n",
    "                         sm.add_constant(bs_train_features[bs_train_labels.bad == 1])).fit()\n",
    "    linreg_rec_rate.summary()\n",
    "    test_features[\"pred_rec_rate\"] = linreg_rec_rate.predict(test_features.drop(\"pred_fail_rate\", 1))\n",
    "    \n",
    "    test_features[\"exp_R\"] = ((1 + test_features[\"int_rate_num\"]) * (1 - test_features[\"pred_fail_rate\"]) +\n",
    "                         test_features[\"pred_rec_rate\"] * test_features[\"pred_fail_rate\"])\n",
    "    \n",
    "    linreg_rec_rate2 = sm.OLS(bs_train_labels[bs_train_labels.bad == 1][\"return\"] ** 2, \n",
    "                         sm.add_constant(bs_train_features[bs_train_labels.bad == 1])).fit()\n",
    "    linreg_rec_rate2.summary()\n",
    "    test_features[\"pred_rec_rate2\"] = linreg_rec_rate2.predict(sm.add_constant(test_features.iloc[:,:107]))\n",
    "\n",
    "    test_features[\"var_R\"] = ((1 + test_features[\"int_rate_num\"])**2 * (1 - test_features[\"pred_fail_rate\"]) +\n",
    "                         test_features[\"pred_rec_rate2\"] * test_features[\"pred_fail_rate\"] \n",
    "                         - test_features[\"exp_R\"]**2)\n",
    "    \n",
    "    \n",
    "    #expected return and variance by grade\n",
    "    bs_train_features_no_int = bs_train_features.iloc[:, :107].drop(\"int_rate_num\", 1)\n",
    "    test_features_no_int = test_features.iloc[:, :107].drop(\"int_rate_num\", 1)\n",
    "\n",
    "    for grade in [\"A\", \"B\", \"C\", \"D\", \"E\", \"F\", \"G\"]: \n",
    "    \n",
    "        lr_fail_rate = LogisticRegression()\n",
    "        lr_fail_rate.fit(bs_train_features_no_int[bs_train_labels[\"grade_\" + grade] == 1], \n",
    "                     bs_train_labels[bs_train_labels[\"grade_\" + grade] == 1][\"bad\"])\n",
    "        test_features[\"pred_fail_rate_\" + grade] = lr_fail_rate.predict_proba(test_features_no_int)[:, 1]\n",
    "    \n",
    "        mask = (bs_train_labels[\"grade_\" + grade] == 1) & (bs_train_labels[\"bad\"] == 1)\n",
    "        lr_rec_rate = sm.OLS(bs_train_labels[mask][\"return\"], sm.add_constant(bs_train_features_no_int[mask])).fit()\n",
    "        test_features[\"pred_rec_rate_\" + grade] = lr_rec_rate.predict(test_features_no_int)\n",
    "    \n",
    "        lr_rec_rate2 = sm.OLS(bs_train_labels[mask][\"return\"] ** 2, sm.add_constant(bs_train_features_no_int[mask])).fit()\n",
    "        test_features[\"pred_rec_rate2_\" + grade] = lr_rec_rate2.predict(test_features_no_int)\n",
    "    \n",
    "        r = np.mean(bs_train_features[bs_train_labels[\"grade_\" + grade] == 1][\"int_rate_num\"])\n",
    "    \n",
    "        test_features[\"exp_R_\" + grade] = ((1 + r) * (1 - test_features[\"pred_fail_rate_\" + grade]) +\n",
    "                         test_features[\"pred_rec_rate_\" + grade] * test_features[\"pred_fail_rate_\" + grade])\n",
    "    \n",
    "        test_features[\"var_R_\" + grade] = ((1 + r)**2 * (1 - test_features[\"pred_fail_rate_\" + grade]) +\n",
    "                        test_features[\"pred_rec_rate2_\" + grade] * test_features[\"pred_fail_rate_\" + grade] \n",
    "                         - test_features[\"exp_R_\" + grade]**2)\n",
    "    \n",
    "    #bootstrapping test_data\n",
    "    bs_test_features = resample(test_features, n_samples = len(test_features))\n",
    "    bs_test_labels = resample(test_labels, n_samples = len(test_labels))\n",
    "    \n",
    "    \n",
    "    results = scipy.optimize.minimize(nllh, [0,0,0], args=(bs_test_features, bs_test_labels), method='Nelder-Mead')['x']\n",
    "    # getting betas\n",
    "    b1.append(results[0])\n",
    "    b2.append(results[1])\n",
    "    b3.append(results[2])\n",
    "\n",
    "#standard errors\n",
    "se_b1 = np.std(b1)\n",
    "se_b2 = np.std(b2)\n",
    "se_b3 = np.std(b3)"
   ]
  },
  {
   "cell_type": "markdown",
   "metadata": {},
   "source": [
    "## Marginal Effects"
   ]
  },
  {
   "cell_type": "code",
   "execution_count": 38,
   "metadata": {},
   "outputs": [],
   "source": [
    "#getting the MLE utility array \\beta' x using the estimated betas from the estimation\n",
    "\n",
    "est_betas = np.array([6.43002213, -53.826577])\n",
    "utilities = {}\n",
    "for grade in [\"A\", \"B\", \"C\", \"D\", \"E\", \"F\", \"G\"]:\n",
    "utilities[grade] = np.dot(features[[\"exp_R_\" + grade, \"var_R_\" + grade]].values, est_betas)\n",
    "est_utilitiesArray = pd.DataFrame(utilities).values\n",
    "\n",
    "\n",
    "#defining the CDF of the logistic distribution\n",
    "\n",
    "def lambda_(x):\n",
    "    res = np.exp(x)/(1+exp(x))\n",
    "    return(res)\n",
    "    \n",
    "#logistic density function (derivative of logistic CDF)\n",
    "\n",
    "def gamma(x):\n",
    "    res = lambda_(x)/(1-lambda_(x))\n",
    "    return(res)\n",
    "\n",
    "#marginal effect is the logistic density fucntion times the beta \n",
    "#should return an array of the marginal change in the expected probability given a feature ∂E(y|x)/∂x\n",
    "\n",
    "def marginal_effect(x):\n",
    "    res = np.dot(gamma(x), est_betas)\n",
    "    return(res)"
   ]
  },
  {
   "cell_type": "markdown",
   "metadata": {},
   "source": [
    "## How well does the mean variance paradigm perform out of sample?"
   ]
  },
  {
   "cell_type": "code",
   "execution_count": null,
   "metadata": {},
   "outputs": [],
   "source": [
    "#predict utilities of assigning a given loan to a grade, run the matching algorithm then compare results"
   ]
  },
  {
   "cell_type": "code",
   "execution_count": 2,
   "metadata": {},
   "outputs": [
    {
     "name": "stderr",
     "output_type": "stream",
     "text": [
      "/anaconda3/lib/python3.6/site-packages/statsmodels/compat/pandas.py:56: FutureWarning: The pandas.core.datetools module is deprecated and will be removed in a future version. Please use the pandas.tseries module instead.\n",
      "  from pandas.core import datetools\n",
      "/anaconda3/lib/python3.6/site-packages/IPython/core/magics/execution.py:761: DtypeWarning: Columns (0,19) have mixed types. Specify dtype option on import or set low_memory=False.\n",
      "  exit_ignore=exit_ignore)\n"
     ]
    }
   ],
   "source": [
    "%run load_oos_data.py"
   ]
  },
  {
   "cell_type": "code",
   "execution_count": 3,
   "metadata": {},
   "outputs": [],
   "source": [
    "# Regressions of rates on personal characteristics\n",
    "\n",
    "from sklearn.linear_model import LogisticRegression\n",
    "\n",
    "features_no_int = features.iloc[:, :107].drop(\"int_rate_num\", 1)"
   ]
  },
  {
   "cell_type": "code",
   "execution_count": 4,
   "metadata": {},
   "outputs": [
    {
     "name": "stderr",
     "output_type": "stream",
     "text": [
      "/anaconda3/lib/python3.6/site-packages/sklearn/linear_model/base.py:340: RuntimeWarning: overflow encountered in exp\n",
      "  np.exp(prob, prob)\n"
     ]
    }
   ],
   "source": [
    "for grade in [\"A\", \"B\", \"C\", \"D\", \"E\", \"F\", \"G\"]: \n",
    "    \n",
    "    lr_fail_rate = LogisticRegression()\n",
    "    lr_fail_rate.fit(features_no_int[labels[\"grade_\" + grade] == 1], \n",
    "                     labels[labels[\"grade_\" + grade] == 1][\"bad\"])\n",
    "    features[\"pred_fail_rate_\" + grade] = lr_fail_rate.predict_proba(features_no_int)[:, 1]\n",
    "    \n",
    "    mask = (labels[\"grade_\" + grade] == 1) & (labels[\"bad\"] == 1)\n",
    "    \n",
    "    lr_rec_rate = sm.OLS(labels[mask][\"return\"], sm.add_constant(features_no_int[mask])).fit()\n",
    "    features[\"pred_rec_rate_\" + grade] = lr_rec_rate.predict(features_no_int)\n",
    "    \n",
    "    lr_rec_rate2 = sm.OLS(labels[mask][\"return\"] ** 2, sm.add_constant(features_no_int[mask])).fit()\n",
    "    features[\"pred_rec_rate2_\" + grade] = lr_rec_rate2.predict(features_no_int)\n",
    "    \n",
    "    r = np.mean(features[labels[\"grade_\" + grade] == 1][\"int_rate_num\"])\n",
    "    \n",
    "    features[\"exp_R_\" + grade] = ((1 + r) * (1 - features[\"pred_fail_rate_\" + grade]) +\n",
    "                         features[\"pred_rec_rate_\" + grade] * features[\"pred_fail_rate_\" + grade])\n",
    "    \n",
    "    features[\"var_R_\" + grade] = ((1 + r)**2 * (1 - features[\"pred_fail_rate_\" + grade]) +\n",
    "                         features[\"pred_rec_rate2_\" + grade] * features[\"pred_fail_rate_\" + grade] \n",
    "                         - features[\"exp_R_\" + grade]**2)"
   ]
  },
  {
   "cell_type": "code",
   "execution_count": 5,
   "metadata": {},
   "outputs": [
    {
     "data": {
      "image/png": "[encoded data removed]",
      "text/plain": [
       "<matplotlib.figure.Figure at 0x1c1b6a0860>"
      ]
     },
     "metadata": {},
     "output_type": "display_data"
    }
   ],
   "source": [
    "for grade in [\"A\", \"B\", \"C\", \"D\", \"E\", \"F\", \"G\"]:\n",
    "    plt.plot(features[labels[\"grade_\" + grade] == 1][\"exp_R_\" + grade], \n",
    "             features[labels[\"grade_\" + grade] == 1][\"var_R_\" + grade], \n",
    "             marker='o', linestyle='', label=grade, alpha = 0.25)\n",
    "\n",
    "plt.legend()\n",
    "plt.title(\"Loans by Estimated Return and Variance\")\n",
    "plt.xlabel(\"Return\")\n",
    "plt.ylabel(\"Variance\")\n",
    "fig1 = plt.gcf()\n",
    "fig1.savefig('returnvariance.png', dpi=200)\n",
    "plt.show()"
   ]
  },
  {
   "cell_type": "code",
   "execution_count": 6,
   "metadata": {},
   "outputs": [],
   "source": [
    "est_betas = np.array([6.43002213, -53.826577])\n",
    "utilities = {}\n",
    "for grade in [\"A\", \"B\", \"C\", \"D\", \"E\", \"F\", \"G\"]:\n",
    "    utilities[grade] = np.dot(features[[\"exp_R_\" + grade, \"var_R_\" + grade]].values, est_betas)\n",
    "    est_utilitiesFrame = pd.DataFrame(utilities)"
   ]
  },
  {
   "cell_type": "code",
   "execution_count": 18,
   "metadata": {},
   "outputs": [],
   "source": [
    "#final step I gotta run the matching algo\n",
    "cap = pd.DataFrame([0])\n",
    "for grade in [\"A\", \"B\", \"C\", \"D\", \"E\", \"F\", \"G\"]:\n",
    "    cap[grade] = np.sum(labels['grade_' + grade])\n",
    "    \n"
   ]
  },
  {
   "cell_type": "code",
   "execution_count": 50,
   "metadata": {},
   "outputs": [],
   "source": [
    "#matching algo\n",
    "def matching_algorithm(data, capacities):\n",
    "    df = pd.DataFrame()\n",
    "    data_length = len(data)\n",
    "    for grade in [\"A\", \"B\", \"C\", \"D\", \"E\", \"F\", \"G\"]:\n",
    "        data = data.sort_values(by = [grade], ascending = False)\n",
    "        temp = data[:int(capacities[grade])].index.values.tolist()\n",
    "        diff = data_length-len(temp)\n",
    "        na = ['NaN']*diff\n",
    "        df[grade] = temp + na\n",
    "        data = data[int(capacities[grade]):]\n",
    "    return(df)\n",
    "\n",
    "\n",
    "final_matching = matching_algorithm(est_utilitiesFrame, cap)"
   ]
  },
  {
   "cell_type": "code",
   "execution_count": 123,
   "metadata": {},
   "outputs": [],
   "source": [
    "#finding mathcing values between mathcing algo output and real matches\n",
    "l = []\n",
    "for grade in [\"A\", \"B\", \"C\", \"D\", \"E\", \"F\", \"G\"]:\n",
    "    a = final_matching[grade].values.tolist()\n",
    "    a = [x for x in a if str(x) != 'NaN']\n",
    "    b = labels.loc[labels['grade_'+grade] == 1].index.tolist()\n",
    "    res = (len(set(a).intersection(b)))/len(b)\n",
    "    l.append('return and varance predict ' + str(res)[:4] + ' % of matches for grade ' + grade)\n",
    "\n",
    "l"
   ]
  }
 ],
 "metadata": {
  "kernelspec": {
   "display_name": "Python 3",
   "language": "python",
   "name": "python3"
  },
  "language_info": {
   "codemirror_mode": {
    "name": "ipython",
    "version": 3
   },
   "file_extension": ".py",
   "mimetype": "text/x-python",
   "name": "python",
   "nbconvert_exporter": "python",
   "pygments_lexer": "ipython3",
   "version": "3.6.4"
  }
 },
 "nbformat": 4,
 "nbformat_minor": 2
}
