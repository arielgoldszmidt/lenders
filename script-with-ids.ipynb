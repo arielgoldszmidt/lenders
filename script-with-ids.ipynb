{
 "cells": [
  {
   "cell_type": "markdown",
   "metadata": {},
   "source": [
    "## Load and clean data"
   ]
  },
  {
   "cell_type": "code",
   "execution_count": 1,
   "metadata": {},
   "outputs": [
    {
     "name": "stderr",
     "output_type": "stream",
     "text": [
      "/anaconda/lib/python3.6/site-packages/IPython/core/interactiveshell.py:2717: DtypeWarning: Columns (19,55) have mixed types. Specify dtype option on import or set low_memory=False.\n",
      "  interactivity=interactivity, compiler=compiler, result=result)\n"
     ]
    }
   ],
   "source": [
    "# Import libraries and data\n",
    "\n",
    "import numpy as np\n",
    "import pandas as pd\n",
    "import matplotlib.pyplot as plt\n",
    "\n",
    "frame = pd.read_csv(\"data-with-ids/loan.csv\", index_col = None)"
   ]
  },
  {
   "cell_type": "code",
   "execution_count": 2,
   "metadata": {},
   "outputs": [
    {
     "data": {
      "text/plain": [
       "(887379, 74)"
      ]
     },
     "execution_count": 2,
     "metadata": {},
     "output_type": "execute_result"
    }
   ],
   "source": [
    "frame.shape"
   ]
  },
  {
   "cell_type": "code",
   "execution_count": 2,
   "metadata": {
    "collapsed": true
   },
   "outputs": [],
   "source": [
    "# Cast emp_length to int\n",
    "def emp_length_to_int(s):\n",
    "    return max([int(n) for n in str(s).split() if n.isdigit()] + [0])\n",
    "frame['emp_length_num'] = frame['emp_length'].apply(emp_length_to_int)\n",
    "\n",
    "# Add late and default dummies\n",
    "frame['late_16_30'] = (frame.loan_status == \"Late (16-30 days)\") * 1\n",
    "frame['late_31_120'] = (frame.loan_status == \"Late (31-120 days)\") * 1\n",
    "frame['default'] = (frame.loan_status == \"Default\") * 1\n",
    "\n",
    "# Add interest-to-total-received and late-fees-to-total-received ratios\n",
    "frame['int_to_total'] = (frame['total_rec_int'] / frame['total_pymnt']).fillna(0)\n",
    "frame['late_fees_to_total'] = (frame['total_rec_late_fee'] / frame['total_pymnt']).fillna(0)\n",
    "\n",
    "# Convert earliest credit line to date\n",
    "frame['earliest_cr_line_date'] = pd.to_datetime(frame.earliest_cr_line)\n",
    "frame['earliest_cr_line_date'] = (frame['earliest_cr_line_date'] - frame['earliest_cr_line_date'].min()) / np.timedelta64(1,'M')\n"
   ]
  },
  {
   "cell_type": "code",
   "execution_count": 3,
   "metadata": {},
   "outputs": [
    {
     "data": {
      "text/plain": [
       "0.0"
      ]
     },
     "execution_count": 3,
     "metadata": {},
     "output_type": "execute_result"
    }
   ],
   "source": [
    "frame['earliest_cr_line_date'].min()"
   ]
  },
  {
   "cell_type": "markdown",
   "metadata": {},
   "source": [
    "## m a c h i n e l e a r n i n g"
   ]
  },
  {
   "cell_type": "code",
   "execution_count": 6,
   "metadata": {
    "collapsed": true
   },
   "outputs": [],
   "source": [
    "# Construct data frame of just pre-application characteristics\n",
    "\n",
    "post_variables = [\"acc_now_delinq\", \"acc_open_past_24mths\", \"all_util\", \n",
    "                \"chargeoff_within_12_mths\", \"collection_recovery_fee\", \n",
    "                \"funded_amnt\", \"funded_amnt_inv\", \"grade\", \"id\", \"initial_list_status\",\n",
    "                \"installment\", \"int_rate\", \"issue_d\", \"last_credit_pull_d\", \n",
    "                \"last_fico_range_high\", \"last_fico_range_low\", \"last_pymnt_amnt\",\n",
    "                \"last_pymnt_d\", \"member_id\", \"next_pymnt_d\", \"out_prncp\", \n",
    "                \"out_prncp_inv\", \"pymnt_plan\", \"sub_grade\", \"term\",\n",
    "                \"total_pymnt\", \"total_pymnt_inv\", \"total_rec_int\", \"total_rec_late_fee\",\n",
    "                \"total_rec_prncp\", \"hardship_flag\", \"hardship_type\", \"hardship_reason\",\n",
    "                \"hardship_status\", \"deferral_term\", \"hardship_amount\",\n",
    "                \"hardship_start_date\", \"hardship_end_date\", \"payment_plan_start_date\",\n",
    "                \"hardship_length\", \"hardship_dpd\", \"hardship_loan_status\",\n",
    "                \"earliest_cr_line\",\n",
    "                \"zip_code\", \"title\", \"purpose\", \"desc\", \"url\", \"loan_status\", \"emp_length\",\n",
    "                \"emp_title\"]\n",
    "post_variables = list(set(post_variables).intersection(frame.columns))\n",
    "\n",
    "pre_data = frame.drop(post_variables, axis=1)\n",
    "pre_data_dummies = pd.get_dummies(pre_data)\n",
    "\n",
    "# Drop nas\n",
    "pre_data_dummies_no_na = pre_data_dummies[pre_data_dummies.columns[pre_data_dummies.isnull().sum() < 100]].dropna()"
   ]
  },
  {
   "cell_type": "code",
   "execution_count": 61,
   "metadata": {},
   "outputs": [
    {
     "data": {
      "text/plain": [
       "RandomForestRegressor(bootstrap=True, criterion='mse', max_depth=None,\n",
       "           max_features='auto', max_leaf_nodes=None,\n",
       "           min_impurity_split=1e-07, min_samples_leaf=1,\n",
       "           min_samples_split=2, min_weight_fraction_leaf=0.0,\n",
       "           n_estimators=64, n_jobs=1, oob_score=False, random_state=42,\n",
       "           verbose=0, warm_start=False)"
      ]
     },
     "execution_count": 61,
     "metadata": {},
     "output_type": "execute_result"
    }
   ],
   "source": [
    "## Random forest regression of default on pre-application characteristics\n",
    "\n",
    "\n",
    "# Split data into traning and test\n",
    "\n",
    "from sklearn.model_selection import train_test_split\n",
    "\n",
    "regressands = [\"late_16_30\", \"late_31_120\", \"default\", \"int_to_total\", \"late_fees_to_total\"]\n",
    "features = pre_data_dummies_no_na.drop(regressands, axis=1)\n",
    "labels = pre_data_dummies_no_na[regressands]\n",
    "train_features, test_features, train_labels, test_labels = train_test_split(features, labels, test_size = 0.8, \n",
    "                                                                            random_state = 42)\n",
    "\n",
    "# Fit random forest\n",
    "\n",
    "from sklearn.ensemble import RandomForestRegressor\n",
    "\n",
    "rf = RandomForestRegressor(n_estimators = 64, random_state = 42)\n",
    "rf.fit(train_features, train_labels)"
   ]
  },
  {
   "cell_type": "code",
   "execution_count": 62,
   "metadata": {},
   "outputs": [
    {
     "data": {
      "text/html": [
       "<div>\n",
       "<style>\n",
       "    .dataframe thead tr:only-child th {\n",
       "        text-align: right;\n",
       "    }\n",
       "\n",
       "    .dataframe thead th {\n",
       "        text-align: left;\n",
       "    }\n",
       "\n",
       "    .dataframe tbody tr th {\n",
       "        vertical-align: top;\n",
       "    }\n",
       "</style>\n",
       "<table border=\"1\" class=\"dataframe\">\n",
       "  <thead>\n",
       "    <tr style=\"text-align: right;\">\n",
       "      <th></th>\n",
       "      <th>importance</th>\n",
       "    </tr>\n",
       "  </thead>\n",
       "  <tbody>\n",
       "    <tr>\n",
       "      <th>dti</th>\n",
       "      <td>0.123189</td>\n",
       "    </tr>\n",
       "    <tr>\n",
       "      <th>loan_amnt</th>\n",
       "      <td>0.118567</td>\n",
       "    </tr>\n",
       "    <tr>\n",
       "      <th>revol_bal</th>\n",
       "      <td>0.110298</td>\n",
       "    </tr>\n",
       "    <tr>\n",
       "      <th>earliest_cr_line_date</th>\n",
       "      <td>0.100971</td>\n",
       "    </tr>\n",
       "    <tr>\n",
       "      <th>annual_inc</th>\n",
       "      <td>0.091306</td>\n",
       "    </tr>\n",
       "    <tr>\n",
       "      <th>total_acc</th>\n",
       "      <td>0.075287</td>\n",
       "    </tr>\n",
       "    <tr>\n",
       "      <th>open_acc</th>\n",
       "      <td>0.061161</td>\n",
       "    </tr>\n",
       "    <tr>\n",
       "      <th>emp_length_num</th>\n",
       "      <td>0.042546</td>\n",
       "    </tr>\n",
       "    <tr>\n",
       "      <th>inq_last_6mths</th>\n",
       "      <td>0.029077</td>\n",
       "    </tr>\n",
       "    <tr>\n",
       "      <th>delinq_2yrs</th>\n",
       "      <td>0.017829</td>\n",
       "    </tr>\n",
       "  </tbody>\n",
       "</table>\n",
       "</div>"
      ],
      "text/plain": [
       "                       importance\n",
       "dti                      0.123189\n",
       "loan_amnt                0.118567\n",
       "revol_bal                0.110298\n",
       "earliest_cr_line_date    0.100971\n",
       "annual_inc               0.091306\n",
       "total_acc                0.075287\n",
       "open_acc                 0.061161\n",
       "emp_length_num           0.042546\n",
       "inq_last_6mths           0.029077\n",
       "delinq_2yrs              0.017829"
      ]
     },
     "execution_count": 62,
     "metadata": {},
     "output_type": "execute_result"
    }
   ],
   "source": [
    "# Check feature importance for RF\n",
    "\n",
    "feature_importances = pd.DataFrame(rf.feature_importances_,\n",
    "                                   index = train_features.columns,\n",
    "                                   columns=['importance']).sort_values('importance', ascending=False)\n",
    "feature_importances[:10]"
   ]
  },
  {
   "cell_type": "code",
   "execution_count": 101,
   "metadata": {
    "collapsed": true
   },
   "outputs": [],
   "source": [
    "# Predict out of sample with random forest\n",
    "predictions = rf.predict(test_features)"
   ]
  },
  {
   "cell_type": "code",
   "execution_count": 105,
   "metadata": {
    "collapsed": true
   },
   "outputs": [],
   "source": [
    "# Getted fitted values (predictions in sample)\n",
    "fitted_vals = rf.predict(train_features)"
   ]
  },
  {
   "cell_type": "code",
   "execution_count": 117,
   "metadata": {},
   "outputs": [
    {
     "data": {
      "text/plain": [
       "late_16_30            0.020328\n",
       "late_31_120           0.044456\n",
       "default               0.014521\n",
       "int_to_total          0.054906\n",
       "late_fees_to_total    0.000972\n",
       "dtype: float64"
      ]
     },
     "execution_count": 117,
     "metadata": {},
     "output_type": "execute_result"
    }
   ],
   "source": [
    "# Check in sample performance\n",
    "np.sqrt(np.mean((fitted_vals - train_labels) ** 2, axis=0))"
   ]
  },
  {
   "cell_type": "code",
   "execution_count": 116,
   "metadata": {},
   "outputs": [
    {
     "data": {
      "text/plain": [
       "late_16_30            0.052858\n",
       "late_31_120           0.116974\n",
       "default               0.038159\n",
       "int_to_total          0.145281\n",
       "late_fees_to_total    0.002458\n",
       "dtype: float64"
      ]
     },
     "execution_count": 116,
     "metadata": {},
     "output_type": "execute_result"
    }
   ],
   "source": [
    "# Check mean squared error out of sample\n",
    "np.sqrt(np.mean((predictions - test_labels) ** 2, axis=0))"
   ]
  },
  {
   "cell_type": "code",
   "execution_count": 118,
   "metadata": {},
   "outputs": [
    {
     "data": {
      "text/plain": [
       "late_16_30            0.052331\n",
       "late_31_120           0.114582\n",
       "default               0.036851\n",
       "int_to_total          0.314678\n",
       "late_fees_to_total    0.002751\n",
       "dtype: float64"
      ]
     },
     "execution_count": 118,
     "metadata": {},
     "output_type": "execute_result"
    }
   ],
   "source": [
    "# Mean squared error of naive estimator that guesses 0 for everything\n",
    "np.sqrt(np.mean(train_labels ** 2))"
   ]
  },
  {
   "cell_type": "code",
   "execution_count": 65,
   "metadata": {
    "collapsed": true
   },
   "outputs": [],
   "source": [
    "# Append predictions to test data\n",
    "predicted_cols = [c + \"_pred\" for c in train_labels.columns]\n",
    "predictions_df = pd.DataFrame(predictions, columns = predicted_cols, index = test_features.index)\n",
    "\n",
    "test_data_with_preds = test_features.join(predictions_df)"
   ]
  },
  {
   "cell_type": "markdown",
   "metadata": {},
   "source": [
    "## Logistic regression model"
   ]
  },
  {
   "cell_type": "code",
   "execution_count": 188,
   "metadata": {},
   "outputs": [
    {
     "data": {
      "text/plain": [
       "LogisticRegression(C=1.0, class_weight=None, dual=False, fit_intercept=True,\n",
       "          intercept_scaling=1, max_iter=100, multi_class='ovr', n_jobs=1,\n",
       "          penalty='l2', random_state=None, solver='liblinear', tol=0.0001,\n",
       "          verbose=0, warm_start=False)"
      ]
     },
     "execution_count": 188,
     "metadata": {},
     "output_type": "execute_result"
    }
   ],
   "source": [
    "## Logistic regression of default (and other risks) on pre-application characteristics\n",
    "\n",
    "from sklearn.linear_model import LogisticRegression\n",
    "\n",
    "lr = LogisticRegression()\n",
    "lr.fit(train_features, train_labels.default)"
   ]
  },
  {
   "cell_type": "code",
   "execution_count": 189,
   "metadata": {},
   "outputs": [
    {
     "data": {
      "text/plain": [
       "0.036900647586326128"
      ]
     },
     "execution_count": 189,
     "metadata": {},
     "output_type": "execute_result"
    }
   ],
   "source": [
    "np.sqrt(np.mean((lr.predict_proba(train_features)[:,1] - train_labels.default) ** 2))"
   ]
  },
  {
   "cell_type": "code",
   "execution_count": 194,
   "metadata": {},
   "outputs": [
    {
     "data": {
      "text/plain": [
       "array([ 0.00605395,  0.00118431,  0.00117701, ...,  0.00053972,\n",
       "        0.00277197,  0.00227416])"
      ]
     },
     "execution_count": 194,
     "metadata": {},
     "output_type": "execute_result"
    }
   ],
   "source": [
    "lr.predict_proba(train_features)[:,1]"
   ]
  },
  {
   "cell_type": "code",
   "execution_count": 193,
   "metadata": {},
   "outputs": [
    {
     "data": {
      "text/plain": [
       "loan_amnt                                     6000.000000\n",
       "annual_inc                                   19328.000000\n",
       "dti                                             34.220000\n",
       "delinq_2yrs                                      0.000000\n",
       "inq_last_6mths                                   0.000000\n",
       "open_acc                                         4.000000\n",
       "pub_rec                                          0.000000\n",
       "revol_bal                                    18626.000000\n",
       "total_acc                                        8.000000\n",
       "recoveries                                       0.000000\n",
       "policy_code                                      1.000000\n",
       "emp_length_num                                   0.000000\n",
       "earliest_cr_line_date                          120.018892\n",
       "home_ownership_ANY                               0.000000\n",
       "home_ownership_MORTGAGE                          0.000000\n",
       "home_ownership_NONE                              0.000000\n",
       "home_ownership_OTHER                             0.000000\n",
       "home_ownership_OWN                               0.000000\n",
       "home_ownership_RENT                              1.000000\n",
       "verification_status_Not Verified                 0.000000\n",
       "verification_status_Source Verified              0.000000\n",
       "verification_status_Verified                     1.000000\n",
       "addr_state_AK                                    0.000000\n",
       "addr_state_AL                                    0.000000\n",
       "addr_state_AR                                    0.000000\n",
       "addr_state_AZ                                    0.000000\n",
       "addr_state_CA                                    0.000000\n",
       "addr_state_CO                                    0.000000\n",
       "addr_state_CT                                    0.000000\n",
       "addr_state_DC                                    0.000000\n",
       "                                                 ...     \n",
       "addr_state_MT                                    0.000000\n",
       "addr_state_NC                                    0.000000\n",
       "addr_state_ND                                    0.000000\n",
       "addr_state_NE                                    0.000000\n",
       "addr_state_NH                                    0.000000\n",
       "addr_state_NJ                                    0.000000\n",
       "addr_state_NM                                    0.000000\n",
       "addr_state_NV                                    0.000000\n",
       "addr_state_NY                                    0.000000\n",
       "addr_state_OH                                    0.000000\n",
       "addr_state_OK                                    1.000000\n",
       "addr_state_OR                                    0.000000\n",
       "addr_state_PA                                    0.000000\n",
       "addr_state_RI                                    0.000000\n",
       "addr_state_SC                                    0.000000\n",
       "addr_state_SD                                    0.000000\n",
       "addr_state_TN                                    0.000000\n",
       "addr_state_TX                                    0.000000\n",
       "addr_state_UT                                    0.000000\n",
       "addr_state_VA                                    0.000000\n",
       "addr_state_VT                                    0.000000\n",
       "addr_state_WA                                    0.000000\n",
       "addr_state_WI                                    0.000000\n",
       "addr_state_WV                                    0.000000\n",
       "addr_state_WY                                    0.000000\n",
       "application_type_INDIVIDUAL                      1.000000\n",
       "application_type_JOINT                           0.000000\n",
       "verification_status_joint_Not Verified           0.000000\n",
       "verification_status_joint_Source Verified        0.000000\n",
       "verification_status_joint_Verified               0.000000\n",
       "Name: 847014, Length: 78, dtype: float64"
      ]
     },
     "execution_count": 193,
     "metadata": {},
     "output_type": "execute_result"
    }
   ],
   "source": [
    "train_features.iloc[69742]"
   ]
  },
  {
   "cell_type": "code",
   "execution_count": null,
   "metadata": {
    "collapsed": true
   },
   "outputs": [],
   "source": []
  }
 ],
 "metadata": {
  "kernelspec": {
   "display_name": "Python 3",
   "language": "python",
   "name": "python3"
  },
  "language_info": {
   "codemirror_mode": {
    "name": "ipython",
    "version": 3
   },
   "file_extension": ".py",
   "mimetype": "text/x-python",
   "name": "python",
   "nbconvert_exporter": "python",
   "pygments_lexer": "ipython3",
   "version": "3.6.1"
  }
 },
 "nbformat": 4,
 "nbformat_minor": 2
}
