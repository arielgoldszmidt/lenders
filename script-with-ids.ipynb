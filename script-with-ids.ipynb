{
 "cells": [
  {
   "cell_type": "code",
   "execution_count": 1,
   "metadata": {},
   "outputs": [
    {
     "name": "stderr",
     "output_type": "stream",
     "text": [
      "/anaconda/lib/python3.6/site-packages/IPython/core/interactiveshell.py:2717: DtypeWarning: Columns (19,55) have mixed types. Specify dtype option on import or set low_memory=False.\n",
      "  interactivity=interactivity, compiler=compiler, result=result)\n"
     ]
    }
   ],
   "source": [
    "# Import libraries and data\n",
    "\n",
    "import numpy as np\n",
    "import pandas as pd\n",
    "import matplotlib.pyplot as plt\n",
    "\n",
    "frame = pd.read_csv(\"data-with-ids/loan.csv\", index_col = None)"
   ]
  },
  {
   "cell_type": "code",
   "execution_count": 2,
   "metadata": {
    "collapsed": true
   },
   "outputs": [],
   "source": [
    "# Cast emp_length to int\n",
    "def emp_length_to_int(s):\n",
    "    return max([int(n) for n in str(s).split() if n.isdigit()] + [0])\n",
    "frame['emp_length_num'] = frame['emp_length'].apply(emp_length_to_int)\n",
    "\n",
    "# Add late and default dummies\n",
    "frame['late_16_30'] = (frame.loan_status == \"Late (16-30 days)\") * 1\n",
    "frame['late_31_120'] = (frame.loan_status == \"Late (31-120 days)\") * 1\n",
    "frame['default'] = (frame.loan_status == \"Default\") * 1\n",
    "\n",
    "# Add interest-to-total-received and late-fees-to-total-received ratios\n",
    "frame['int_to_total'] = (frame['total_rec_int'] / frame['total_pymnt']).fillna(0)\n",
    "frame['late_fees_to_total'] = (frame['total_rec_late_fee'] / frame['total_pymnt']).fillna(0)\n",
    "\n",
    "# Convert earliest credit line to date\n",
    "frame['earliest_cr_line_date'] = pd.to_datetime(frame.earliest_cr_line)\n",
    "frame['earliest_cr_line_date'] = (frame['earliest_cr_line_date'] - frame['earliest_cr_line_date'].min()) / np.timedelta64(1,'M')\n"
   ]
  },
  {
   "cell_type": "code",
   "execution_count": 3,
   "metadata": {},
   "outputs": [
    {
     "data": {
      "text/plain": [
       "0.0"
      ]
     },
     "execution_count": 3,
     "metadata": {},
     "output_type": "execute_result"
    }
   ],
   "source": [
    "frame['earliest_cr_line_date'].min()"
   ]
  },
  {
   "cell_type": "markdown",
   "metadata": {},
   "source": [
    "## m a c h i n e l e a r n i n g"
   ]
  },
  {
   "cell_type": "code",
   "execution_count": 6,
   "metadata": {
    "collapsed": true
   },
   "outputs": [],
   "source": [
    "# Construct data frame of just pre-application characteristics\n",
    "\n",
    "post_variables = [\"acc_now_delinq\", \"acc_open_past_24mths\", \"all_util\", \n",
    "                \"chargeoff_within_12_mths\", \"collection_recovery_fee\", \n",
    "                \"funded_amnt\", \"funded_amnt_inv\", \"grade\", \"id\", \"initial_list_status\",\n",
    "                \"installment\", \"int_rate\", \"issue_d\", \"last_credit_pull_d\", \n",
    "                \"last_fico_range_high\", \"last_fico_range_low\", \"last_pymnt_amnt\",\n",
    "                \"last_pymnt_d\", \"member_id\", \"next_pymnt_d\", \"out_prncp\", \n",
    "                \"out_prncp_inv\", \"pymnt_plan\", \"sub_grade\", \"term\",\n",
    "                \"total_pymnt\", \"total_pymnt_inv\", \"total_rec_int\", \"total_rec_late_fee\",\n",
    "                \"total_rec_prncp\", \"hardship_flag\", \"hardship_type\", \"hardship_reason\",\n",
    "                \"hardship_status\", \"deferral_term\", \"hardship_amount\",\n",
    "                \"hardship_start_date\", \"hardship_end_date\", \"payment_plan_start_date\",\n",
    "                \"hardship_length\", \"hardship_dpd\", \"hardship_loan_status\",\n",
    "                \"earliest_cr_line\",\n",
    "                \"zip_code\", \"title\", \"purpose\", \"desc\", \"url\", \"loan_status\", \"emp_length\",\n",
    "                \"emp_title\"]\n",
    "post_variables = list(set(post_variables).intersection(frame.columns))\n",
    "\n",
    "pre_data = frame.drop(post_variables, axis=1)\n",
    "pre_data_dummies = pd.get_dummies(pre_data)\n",
    "\n",
    "# Drop nas\n",
    "pre_data_dummies_no_na = pre_data_dummies[pre_data_dummies.columns[pre_data_dummies.isnull().sum() < 100]].dropna()"
   ]
  },
  {
   "cell_type": "code",
   "execution_count": 30,
   "metadata": {},
   "outputs": [
    {
     "data": {
      "text/plain": [
       "RandomForestRegressor(bootstrap=True, criterion='mse', max_depth=None,\n",
       "           max_features='auto', max_leaf_nodes=None,\n",
       "           min_impurity_split=1e-07, min_samples_leaf=1,\n",
       "           min_samples_split=2, min_weight_fraction_leaf=0.0,\n",
       "           n_estimators=50, n_jobs=1, oob_score=False, random_state=42,\n",
       "           verbose=0, warm_start=False)"
      ]
     },
     "execution_count": 30,
     "metadata": {},
     "output_type": "execute_result"
    }
   ],
   "source": [
    "## Random forest regression of default on pre-application characteristics\n",
    "\n",
    "\n",
    "# Split data into traning and test\n",
    "\n",
    "from sklearn.model_selection import train_test_split\n",
    "\n",
    "regressands = [\"late_16_30\", \"late_31_120\", \"default\", \"int_to_total\", \"late_fees_to_total\"]\n",
    "features = pre_data_dummies_no_na.drop(regressands, axis=1)\n",
    "labels = pre_data_dummies_no_na[regressands]\n",
    "train_features, test_features, train_labels, test_labels = train_test_split(features, labels, test_size = 0.8, \n",
    "                                                                            random_state = 42)\n",
    "\n",
    "# Fit random forest\n",
    "\n",
    "from sklearn.ensemble import RandomForestRegressor\n",
    "\n",
    "rf = RandomForestRegressor(n_estimators = 20, random_state = 42)\n",
    "rf.fit(train_features, train_labels)"
   ]
  },
  {
   "cell_type": "code",
   "execution_count": 31,
   "metadata": {},
   "outputs": [
    {
     "data": {
      "text/html": [
       "<div>\n",
       "<style>\n",
       "    .dataframe thead tr:only-child th {\n",
       "        text-align: right;\n",
       "    }\n",
       "\n",
       "    .dataframe thead th {\n",
       "        text-align: left;\n",
       "    }\n",
       "\n",
       "    .dataframe tbody tr th {\n",
       "        vertical-align: top;\n",
       "    }\n",
       "</style>\n",
       "<table border=\"1\" class=\"dataframe\">\n",
       "  <thead>\n",
       "    <tr style=\"text-align: right;\">\n",
       "      <th></th>\n",
       "      <th>importance</th>\n",
       "    </tr>\n",
       "  </thead>\n",
       "  <tbody>\n",
       "    <tr>\n",
       "      <th>dti</th>\n",
       "      <td>0.122996</td>\n",
       "    </tr>\n",
       "    <tr>\n",
       "      <th>loan_amnt</th>\n",
       "      <td>0.118713</td>\n",
       "    </tr>\n",
       "    <tr>\n",
       "      <th>revol_bal</th>\n",
       "      <td>0.110505</td>\n",
       "    </tr>\n",
       "    <tr>\n",
       "      <th>earliest_cr_line_date</th>\n",
       "      <td>0.101277</td>\n",
       "    </tr>\n",
       "    <tr>\n",
       "      <th>annual_inc</th>\n",
       "      <td>0.091214</td>\n",
       "    </tr>\n",
       "    <tr>\n",
       "      <th>total_acc</th>\n",
       "      <td>0.075174</td>\n",
       "    </tr>\n",
       "    <tr>\n",
       "      <th>open_acc</th>\n",
       "      <td>0.061035</td>\n",
       "    </tr>\n",
       "    <tr>\n",
       "      <th>emp_length_num</th>\n",
       "      <td>0.042507</td>\n",
       "    </tr>\n",
       "    <tr>\n",
       "      <th>inq_last_6mths</th>\n",
       "      <td>0.029105</td>\n",
       "    </tr>\n",
       "    <tr>\n",
       "      <th>delinq_2yrs</th>\n",
       "      <td>0.017839</td>\n",
       "    </tr>\n",
       "  </tbody>\n",
       "</table>\n",
       "</div>"
      ],
      "text/plain": [
       "                       importance\n",
       "dti                      0.122996\n",
       "loan_amnt                0.118713\n",
       "revol_bal                0.110505\n",
       "earliest_cr_line_date    0.101277\n",
       "annual_inc               0.091214\n",
       "total_acc                0.075174\n",
       "open_acc                 0.061035\n",
       "emp_length_num           0.042507\n",
       "inq_last_6mths           0.029105\n",
       "delinq_2yrs              0.017839"
      ]
     },
     "execution_count": 31,
     "metadata": {},
     "output_type": "execute_result"
    }
   ],
   "source": [
    "# Check feature importance for RF\n",
    "\n",
    "feature_importances = pd.DataFrame(rf.feature_importances_,\n",
    "                                   index = train_features.columns,\n",
    "                                   columns=['importance']).sort_values('importance', ascending=False)\n",
    "feature_importances[:10]"
   ]
  },
  {
   "cell_type": "code",
   "execution_count": 32,
   "metadata": {},
   "outputs": [],
   "source": [
    "# Predict\n",
    "\n",
    "predictions = rf.predict(test_features)"
   ]
  },
  {
   "cell_type": "code",
   "execution_count": 43,
   "metadata": {},
   "outputs": [
    {
     "data": {
      "text/plain": [
       "late_16_30            0.006152\n",
       "late_31_120           0.029241\n",
       "default               0.003137\n",
       "int_to_total          0.115799\n",
       "late_fees_to_total    0.000167\n",
       "dtype: float64"
      ]
     },
     "execution_count": 43,
     "metadata": {},
     "output_type": "execute_result"
    }
   ],
   "source": [
    "# Check mean absolute prediction error\n",
    "\n",
    "np.mean(np.abs(predictions - test_labels), axis=0)"
   ]
  },
  {
   "cell_type": "code",
   "execution_count": null,
   "metadata": {
    "collapsed": true
   },
   "outputs": [],
   "source": []
  }
 ],
 "metadata": {
  "kernelspec": {
   "display_name": "Python 3",
   "language": "python",
   "name": "python3"
  },
  "language_info": {
   "codemirror_mode": {
    "name": "ipython",
    "version": 3
   },
   "file_extension": ".py",
   "mimetype": "text/x-python",
   "name": "python",
   "nbconvert_exporter": "python",
   "pygments_lexer": "ipython3",
   "version": "3.6.1"
  }
 },
 "nbformat": 4,
 "nbformat_minor": 2
}
