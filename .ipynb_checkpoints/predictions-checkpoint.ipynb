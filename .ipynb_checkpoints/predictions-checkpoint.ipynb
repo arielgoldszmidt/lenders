{
 "cells": [
  {
   "cell_type": "code",
   "execution_count": 15,
   "metadata": {},
   "outputs": [
    {
     "name": "stderr",
     "output_type": "stream",
     "text": [
      "/anaconda/lib/python3.6/site-packages/IPython/core/magics/execution.py:728: DtypeWarning: Columns (0,19,55) have mixed types. Specify dtype option on import or set low_memory=False.\n",
      "  exit_ignore=exit_ignore)\n",
      "/anaconda/lib/python3.6/site-packages/IPython/core/magics/execution.py:728: DtypeWarning: Columns (0,19) have mixed types. Specify dtype option on import or set low_memory=False.\n",
      "  exit_ignore=exit_ignore)\n",
      "/anaconda/lib/python3.6/site-packages/IPython/core/magics/execution.py:728: DtypeWarning: Columns (0,112) have mixed types. Specify dtype option on import or set low_memory=False.\n",
      "  exit_ignore=exit_ignore)\n",
      "/anaconda/lib/python3.6/site-packages/IPython/core/magics/execution.py:728: DtypeWarning: Columns (0,123,124,125,128,129,130,133,139,140,141) have mixed types. Specify dtype option on import or set low_memory=False.\n",
      "  exit_ignore=exit_ignore)\n",
      "/anaconda/lib/python3.6/site-packages/IPython/core/magics/execution.py:728: DtypeWarning: Columns (0) have mixed types. Specify dtype option on import or set low_memory=False.\n",
      "  exit_ignore=exit_ignore)\n",
      "/anaconda/lib/python3.6/site-packages/IPython/core/magics/execution.py:728: DtypeWarning: Columns (0,47,123,124,125,128,129,130,133) have mixed types. Specify dtype option on import or set low_memory=False.\n",
      "  exit_ignore=exit_ignore)\n",
      "/anaconda/lib/python3.6/site-packages/IPython/core/magics/execution.py:728: DtypeWarning: Columns (0,47) have mixed types. Specify dtype option on import or set low_memory=False.\n",
      "  exit_ignore=exit_ignore)\n"
     ]
    }
   ],
   "source": [
    "%run load_data.py"
   ]
  },
  {
   "cell_type": "code",
   "execution_count": 3,
   "metadata": {},
   "outputs": [
    {
     "name": "stderr",
     "output_type": "stream",
     "text": [
      "/anaconda/lib/python3.6/site-packages/statsmodels/compat/pandas.py:56: FutureWarning: The pandas.core.datetools module is deprecated and will be removed in a future version. Please use the pandas.tseries module instead.\n",
      "  from pandas.core import datetools\n"
     ]
    }
   ],
   "source": [
    "import numpy as np\n",
    "import pandas as pd\n",
    "import matplotlib.pyplot as plt\n",
    "from sklearn.linear_model import LogisticRegression\n",
    "import statsmodels.api as sm"
   ]
  },
  {
   "cell_type": "code",
   "execution_count": 80,
   "metadata": {},
   "outputs": [],
   "source": [
    "# Regressions of rates on personal characteristics\n",
    "\n",
    "train_features_no_int = train_features.iloc[:, :107].drop(\"int_rate_num\", 1)\n",
    "test_features_no_int = test_features.iloc[:, :107].drop(\"int_rate_num\", 1)\n",
    "\n",
    "xnames = ['loan_amnt', 'annual_inc', 'delinq_2yrs', 'emp_length_num', 'term_years', 'home_ownership_MORTGAGE']\n",
    "recregs = []\n",
    "rec2regs = []\n",
    "failregs = []\n",
    "\n",
    "for grade in [\"A\", \"B\", \"C\", \"D\", \"E\", \"F\", \"G\"]: \n",
    "    \n",
    "    lr_fail_rate = LogisticRegression()\n",
    "    lr_fail_rate.fit(train_features_no_int[train_labels[\"grade_\" + grade] == 1], \n",
    "                     train_labels[train_labels[\"grade_\" + grade] == 1][\"bad\"])\n",
    "    test_features[\"pred_fail_rate_\" + grade] = lr_fail_rate.predict_proba(test_features_no_int)[:, 1]\n",
    "    \n",
    "    failreg = sm.OLS(train_labels[train_labels[\"grade_\" + grade] == 1][\"bad\"], \n",
    "                    sm.add_constant(train_features_no_int[train_labels[\"grade_\" + grade] == 1])).fit()\n",
    "    failregs.append(failreg)\n",
    "    \n",
    "    mask = (train_labels[\"grade_\" + grade] == 1) & (train_labels[\"bad\"] == 1)\n",
    "    lr_rec_rate = sm.OLS(train_labels[mask][\"return\"], sm.add_constant(train_features_no_int[mask])).fit()\n",
    "    test_features[\"pred_rec_rate_\" + grade] = lr_rec_rate.predict(test_features_no_int)\n",
    "    recregs.append(lr_rec_rate)\n",
    "    \n",
    "    lr_rec_rate2 = sm.OLS(train_labels[mask][\"return\"] ** 2, sm.add_constant(train_features_no_int[mask])).fit()\n",
    "    test_features[\"pred_rec_rate2_\" + grade] = lr_rec_rate2.predict(test_features_no_int)\n",
    "    rec2regs.append(lr_rec_rate2)\n",
    "    \n",
    "    r = np.mean(train_features[train_labels[\"grade_\" + grade] == 1][\"int_rate_num\"])\n",
    "    \n",
    "    test_features[\"exp_R_\" + grade] = ((1 + r) * (1 - test_features[\"pred_fail_rate_\" + grade]) +\n",
    "                         test_features[\"pred_rec_rate_\" + grade] * test_features[\"pred_fail_rate_\" + grade])\n",
    "    \n",
    "    test_features[\"var_R_\" + grade] = ((1 + r)**2 * (1 - test_features[\"pred_fail_rate_\" + grade]) +\n",
    "                         test_features[\"pred_rec_rate2_\" + grade] * test_features[\"pred_fail_rate_\" + grade] \n",
    "                         - test_features[\"exp_R_\" + grade]**2)"
   ]
  },
  {
   "cell_type": "code",
   "execution_count": 97,
   "metadata": {},
   "outputs": [],
   "source": [
    "# Recovery rate table\n",
    "def to_table(regs, xnames):\n",
    "    table_body = \"\"\n",
    "\n",
    "    for var in xnames:\n",
    "        table_body += var\n",
    "        for i in range(7):\n",
    "            table_body += \" & \" + '${0:.3E}'.format(regs[i].params[var])\n",
    "            p = regs[i].pvalues[var]\n",
    "            if p < 0.005:\n",
    "                table_body += \"^{***}\"\n",
    "            elif p < 0.01:\n",
    "                table_body += \"^{**}\"\n",
    "            elif p < 0.05:\n",
    "                table_body += \"^{*}\"\n",
    "            table_body += \"$\"\n",
    "        table_body += \" \\\\\\\\\\n \"\n",
    "        for i in range(7):\n",
    "            table_body += \" & $(\" + '{0:.3E}'.format(regs[i].HC0_se[var]) + \")$\"\n",
    "        table_body += \" \\\\\\\\\\n \"\n",
    "        table_body += \" & \" * 8\n",
    "        table_body += \" \\\\\\\\\\n \"\n",
    "\n",
    "    table_body += \"\\\\hline \\\\\\\\[-1.8ex] \\n\"\n",
    "    table_body += \"$R^2$\"\n",
    "    for i in range(7):\n",
    "        table_body += \" & \" + '${0:.3f}$'.format(regs[i].rsquared)\n",
    "    table_body += \" \\\\\\\\\\n \"\n",
    "\n",
    "    table_body += \"Adj. $R^2$\"\n",
    "    for i in range(7):\n",
    "        table_body += \" & \" + '${0:.3f}$'.format(regs[i].rsquared_adj)\n",
    "    table_body += \" \\\\\\\\\\n \"\n",
    "\n",
    "    table_body += \"$N$\"\n",
    "    for i in range(7):\n",
    "        table_body += \" & \" + '${0}$'.format(regs[i].nobs)    \n",
    "\n",
    "    print(table_body.replace(\"_\", \"\").replace(\"E-\", \"\\\\text{e-}\"))\n",
    "    \n",
    "    return"
   ]
  },
  {
   "cell_type": "code",
   "execution_count": null,
   "metadata": {
    "collapsed": true
   },
   "outputs": [],
   "source": [
    "to_table(recregs, xnames)"
   ]
  },
  {
   "cell_type": "code",
   "execution_count": 69,
   "metadata": {},
   "outputs": [
    {
     "name": "stdout",
     "output_type": "stream",
     "text": [
      "loanamnt & 5.128E-08 & 4.409E-08 & 5.810E-08 & -3.390E-07^{**} & -4.639E-07^{***} & -4.606E-07^{*} & -1.895E-07 \\\\\n",
      "  & (3.053E-07) & (1.534E-07) & (1.176E-07) & (1.275E-07) & (1.356E-07) & (2.260E-07) & (4.041E-07) \\\\\n",
      "  &  &  &  &  &  &  &  &  \\\\\n",
      " annualinc & 2.140E-08 & -1.885E-08 & -2.424E-08 & 1.372E-08 & 1.115E-08 & 8.857E-08 & -8.457E-08 \\\\\n",
      "  & (4.069E-08) & (6.806E-09) & (2.117E-08) & (2.194E-08) & (6.908E-09) & (5.291E-08) & (9.940E-08) \\\\\n",
      "  &  &  &  &  &  &  &  &  \\\\\n",
      " delinq2yrs & -5.700E-05 & -1.160E-05 & 1.080E-03 & 2.781E-03^{***} & -6.199E-04 & 2.648E-03 & 3.998E-03 \\\\\n",
      "  & (2.542E-03) & (1.095E-03) & (8.143E-04) & (9.453E-04) & (1.026E-03) & (1.482E-03) & (2.367E-03) \\\\\n",
      "  &  &  &  &  &  &  &  &  \\\\\n",
      " emplengthnum & -6.726E-04 & 1.240E-04 & -1.118E-04 & -1.010E-04 & 1.330E-04 & -3.098E-04 & -1.142E-04 \\\\\n",
      "  & (7.072E-04) & (3.549E-04) & (2.672E-04) & (3.085E-04) & (3.426E-04) & (5.009E-04) & (9.269E-04) \\\\\n",
      "  &  &  &  &  &  &  &  &  \\\\\n",
      " termyears & 2.779E-02^{***} & 3.563E-02^{***} & 3.795E-02^{***} & 4.181E-02^{***} & 4.546E-02^{***} & 4.713E-02^{***} & 6.277E-02^{***} \\\\\n",
      "  & (3.071E-03) & (1.137E-03) & (7.745E-04) & (9.193E-04) & (1.359E-03) & (2.641E-03) & (5.525E-03) \\\\\n",
      "  &  &  &  &  &  &  &  &  \\\\\n",
      " homeownershipMORTGAGE & 7.562E-02^{*} & 2.498E-02 & 3.916E-02 & 1.266E-02 & 6.221E-02^{***} & 3.440E-02 & 1.616E-02 \\\\\n",
      "  & (7.502E-03) & (2.732E-02) & (5.822E-03) & (1.638E-02) & (1.704E-02) & (4.296E-03) & (1.215E-02) \\\\\n",
      "  &  &  &  &  &  &  &  &  \\\\\n",
      " \\hline \\\\[-1.8ex] \n",
      "$R^2$ & 0.133 & 0.159 & 0.211 & 0.211 & 0.247 & 0.250 & 0.321 \\\\\n",
      " \\\\ \n",
      "Adj. $R^2$ & 0.116 & 0.154 & 0.209 & 0.207 & 0.242 & 0.238 & 0.281 \\\\\n",
      " \\\\ \n",
      "$N$ & 4822.0 & 17919.0 & 29010.0 & 21913.0 & 13743.0 & 5765.0 & 1709.0\n"
     ]
    }
   ],
   "source": [
    "to_table(rec2regs, xnames)"
   ]
  },
  {
   "cell_type": "code",
   "execution_count": 96,
   "metadata": {},
   "outputs": [
    {
     "name": "stdout",
     "output_type": "stream",
     "text": [
      "loanamnt & $-4.126\\text{e-}08$ & $4.071\\text{e-}07^{***}$ & $4.702\\text{e-}07^{***}$ & $1.584\\text{e-}06^{***}$ & $1.241\\text{e-}06^{***}$ & $2.960\\text{e-}06^{***}$ & $7.415\\text{e-}07$ \\\\\n",
      "  & $(1.353\\text{e-}07)$ & $(1.595\\text{e-}07)$ & $(1.708\\text{e-}07)$ & $(2.542\\text{e-}07)$ & $(4.309\\text{e-}07)$ & $(6.256\\text{e-}07)$ & $(1.085\\text{e-}06)$ \\\\\n",
      "  &  &  &  &  &  &  &  &  \\\\\n",
      " annualinc & $-5.373\\text{e-}08^{***}$ & $-1.097\\text{e-}07^{***}$ & $-1.453\\text{e-}07^{***}$ & $-4.060\\text{e-}07^{***}$ & $-1.785\\text{e-}07^{***}$ & $-6.094\\text{e-}07^{***}$ & $-8.572\\text{e-}07^{***}$ \\\\\n",
      "  & $(1.403\\text{e-}08)$ & $(3.950\\text{e-}08)$ & $(3.564\\text{e-}08)$ & $(6.900\\text{e-}08)$ & $(1.402\\text{e-}07)$ & $(1.432\\text{e-}07)$ & $(1.558\\text{e-}07)$ \\\\\n",
      "  &  &  &  &  &  &  &  &  \\\\\n",
      " delinq2yrs & $1.084\\text{e-}02^{***}$ & $6.537\\text{e-}03^{***}$ & $6.769\\text{e-}03^{***}$ & $5.138\\text{e-}03^{***}$ & $6.888\\text{e-}03^{*}$ & $8.636\\text{e-}03$ & $6.070\\text{e-}03$ \\\\\n",
      "  & $(1.703\\text{e-}03)$ & $(1.126\\text{e-}03)$ & $(1.275\\text{e-}03)$ & $(1.816\\text{e-}03)$ & $(2.768\\text{e-}03)$ & $(4.830\\text{e-}03)$ & $(7.597\\text{e-}03)$ \\\\\n",
      "  &  &  &  &  &  &  &  &  \\\\\n",
      " emplengthnum & $-9.124\\text{e-}04^{***}$ & $-7.343\\text{e-}04^{*}$ & $-4.425\\text{e-}04$ & $-5.759\\text{e-}05$ & $6.968\\text{e-}04$ & $2.332\\text{e-}03$ & $-1.182\\text{e-}03$ \\\\\n",
      "  & $(3.090\\text{e-}04)$ & $(3.229\\text{e-}04)$ & $(3.977\\text{e-}04)$ & $(5.855\\text{e-}04)$ & $(8.730\\text{e-}04)$ & $(1.465\\text{e-}03)$ & $(2.842\\text{e-}03)$ \\\\\n",
      "  &  &  &  &  &  &  &  &  \\\\\n",
      " termyears & $2.284\\text{e-}02^{***}$ & $2.610\\text{e-}02^{***}$ & $3.728\\text{e-}02^{***}$ & $4.531\\text{e-}02^{***}$ & $4.793\\text{e-}02^{***}$ & $4.321\\text{e-}02^{***}$ & $5.378\\text{e-}02^{***}$ \\\\\n",
      "  & $(3.344\\text{e-}03)$ & $(1.684\\text{e-}03)$ & $(1.442\\text{e-}03)$ & $(1.951\\text{e-}03)$ & $(2.916\\text{e-}03)$ & $(5.813\\text{e-}03)$ & $(1.172\\text{e-}02)$ \\\\\n",
      "  &  &  &  &  &  &  &  &  \\\\\n",
      " homeownershipMORTGAGE & $2.124\\text{e-}03$ & $-1.005\\text{e-}01^{***}$ & $7.774\\text{e-}04$ & $-2.762\\text{e-}02$ & $-1.268\\text{e-}01^{*}$ & $-1.039\\text{e-}01$ & $5.188\\text{e-}02$ \\\\\n",
      "  & $(9.727\\text{e-}03)$ & $(3.844\\text{e-}02)$ & $(2.581\\text{e-}02)$ & $(4.147\\text{e-}02)$ & $(5.264\\text{e-}02)$ & $(5.474\\text{e-}02)$ & $(4.282\\text{e-}02)$ \\\\\n",
      "  &  &  &  &  &  &  &  &  \\\\\n",
      " \\hline \\\\[-1.8ex] \n",
      "$R^2$ & $0.012$ & $0.016$ & $0.024$ & $0.034$ & $0.041$ & $0.044$ & $0.063$ \\\\\n",
      " \\\\ \n",
      "Adj. $R^2$ & $0.011$ & $0.015$ & $0.023$ & $0.032$ & $0.038$ & $0.037$ & $0.038$ \\\\\n",
      " \\\\ \n",
      "$N$ & $77142.0$ & $136732.0$ & $135007.0$ & $75326.0$ & $37428.0$ & $13630.0$ & $3801.0$\n"
     ]
    }
   ],
   "source": [
    "to_table(failregs, xnames)"
   ]
  },
  {
   "cell_type": "code",
   "execution_count": null,
   "metadata": {
    "collapsed": true
   },
   "outputs": [],
   "source": []
  }
 ],
 "metadata": {
  "kernelspec": {
   "display_name": "Python 3",
   "language": "python",
   "name": "python3"
  },
  "language_info": {
   "codemirror_mode": {
    "name": "ipython",
    "version": 3
   },
   "file_extension": ".py",
   "mimetype": "text/x-python",
   "name": "python",
   "nbconvert_exporter": "python",
   "pygments_lexer": "ipython3",
   "version": "3.6.1"
  }
 },
 "nbformat": 4,
 "nbformat_minor": 2
}
