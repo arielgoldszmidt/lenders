{
 "cells": [
  {
   "cell_type": "code",
   "execution_count": 17,
   "metadata": {},
   "outputs": [
    {
     "name": "stderr",
     "output_type": "stream",
     "text": [
      "/anaconda/lib/python3.6/site-packages/IPython/core/magics/execution.py:728: DtypeWarning: Columns (0,19,55) have mixed types. Specify dtype option on import or set low_memory=False.\n",
      "  exit_ignore=exit_ignore)\n",
      "/anaconda/lib/python3.6/site-packages/IPython/core/magics/execution.py:728: DtypeWarning: Columns (0,19) have mixed types. Specify dtype option on import or set low_memory=False.\n",
      "  exit_ignore=exit_ignore)\n",
      "/anaconda/lib/python3.6/site-packages/IPython/core/magics/execution.py:728: DtypeWarning: Columns (0,112) have mixed types. Specify dtype option on import or set low_memory=False.\n",
      "  exit_ignore=exit_ignore)\n",
      "/anaconda/lib/python3.6/site-packages/IPython/core/magics/execution.py:728: DtypeWarning: Columns (0,123,124,125,128,129,130,133,139,140,141) have mixed types. Specify dtype option on import or set low_memory=False.\n",
      "  exit_ignore=exit_ignore)\n",
      "/anaconda/lib/python3.6/site-packages/IPython/core/magics/execution.py:728: DtypeWarning: Columns (0) have mixed types. Specify dtype option on import or set low_memory=False.\n",
      "  exit_ignore=exit_ignore)\n",
      "/anaconda/lib/python3.6/site-packages/IPython/core/magics/execution.py:728: DtypeWarning: Columns (0,47,123,124,125,128,129,130,133) have mixed types. Specify dtype option on import or set low_memory=False.\n",
      "  exit_ignore=exit_ignore)\n",
      "/anaconda/lib/python3.6/site-packages/IPython/core/magics/execution.py:728: DtypeWarning: Columns (0,47) have mixed types. Specify dtype option on import or set low_memory=False.\n",
      "  exit_ignore=exit_ignore)\n"
     ]
    }
   ],
   "source": [
    "%run load_data.py"
   ]
  },
  {
   "cell_type": "code",
   "execution_count": 23,
   "metadata": {},
   "outputs": [
    {
     "name": "stdout",
     "output_type": "stream",
     "text": [
      "\\begin{tabular}{lrrrr}\n",
      "\\toprule\n",
      "{} &       mean &        std &     min &           max \\\\\n",
      "\\midrule\n",
      "loan\\_amnt                  & 14,393.814 &  8,577.206 & 500.000 &    40,000.000 \\\\\n",
      "annual\\_inc                 & 75,523.486 & 65,616.948 & 100.000 & 9,550,000.000 \\\\\n",
      "dti                        &     18.043 &      9.424 &  -1.000 &       999.000 \\\\\n",
      "delinq\\_2yrs                &      0.316 &      0.873 &   0.000 &        39.000 \\\\\n",
      "inq\\_last\\_6mths             &      0.714 &      1.005 &   0.000 &        33.000 \\\\\n",
      "open\\_acc                   &     11.560 &      5.381 &   0.000 &        90.000 \\\\\n",
      "pub\\_rec                    &      0.212 &      0.594 &   0.000 &        86.000 \\\\\n",
      "revol\\_bal                  & 16,153.393 & 22,204.127 &   0.000 & 2,904,836.000 \\\\\n",
      "total\\_acc                  &     25.310 &     11.993 &   1.000 &       176.000 \\\\\n",
      "collections\\_12\\_mths\\_ex\\_med &      0.016 &      0.141 &   0.000 &        20.000 \\\\\n",
      "policy\\_code                &      1.000 &      0.000 &   1.000 &         1.000 \\\\\n",
      "acc\\_now\\_delinq             &      0.005 &      0.078 &   0.000 &        14.000 \\\\\n",
      "chargeoff\\_within\\_12\\_mths   &      0.009 &      0.108 &   0.000 &        10.000 \\\\\n",
      "delinq\\_amnt                &     14.401 &    751.569 &   0.000 &    94,521.000 \\\\\n",
      "tax\\_liens                  &      0.049 &      0.387 &   0.000 &        85.000 \\\\\n",
      "int\\_rate\\_num               &      0.135 &      0.047 &   0.053 &         0.310 \\\\\n",
      "emp\\_length\\_num             &      5.721 &      3.709 &   0.000 &        10.000 \\\\\n",
      "term\\_years                 &      3.491 &      0.861 &   3.000 &         5.000 \\\\\n",
      "\\bottomrule\n",
      "\\end{tabular}\n",
      "\n"
     ]
    }
   ],
   "source": [
    "pd.options.display.float_format = '{:,.3f}'.format\n",
    "\n",
    "print(pre_data_no_na.drop(['bad', 'return', 'return2'], axis=1)\n",
    "    .describe()\n",
    "    .T\n",
    "    .drop(['count', '25%', '50%', '75%'], axis=1)\n",
    "    .to_latex()\n",
    ")"
   ]
  },
  {
   "cell_type": "code",
   "execution_count": null,
   "metadata": {
    "collapsed": true
   },
   "outputs": [],
   "source": []
  },
  {
   "cell_type": "code",
   "execution_count": null,
   "metadata": {
    "collapsed": true
   },
   "outputs": [],
   "source": []
  }
 ],
 "metadata": {
  "kernelspec": {
   "display_name": "Python 3",
   "language": "python",
   "name": "python3"
  },
  "language_info": {
   "codemirror_mode": {
    "name": "ipython",
    "version": 3
   },
   "file_extension": ".py",
   "mimetype": "text/x-python",
   "name": "python",
   "nbconvert_exporter": "python",
   "pygments_lexer": "ipython3",
   "version": "3.6.1"
  }
 },
 "nbformat": 4,
 "nbformat_minor": 2
}
