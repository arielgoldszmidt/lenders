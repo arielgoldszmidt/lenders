{
 "cells": [
  {
   "cell_type": "code",
   "execution_count": 3,
   "metadata": {},
   "outputs": [
    {
     "name": "stderr",
     "output_type": "stream",
     "text": [
      "/anaconda/lib/python3.6/site-packages/statsmodels/compat/pandas.py:56: FutureWarning: The pandas.core.datetools module is deprecated and will be removed in a future version. Please use the pandas.tseries module instead.\n",
      "  from pandas.core import datetools\n",
      "/anaconda/lib/python3.6/site-packages/IPython/core/magics/execution.py:728: DtypeWarning: Columns (0,19,55) have mixed types. Specify dtype option on import or set low_memory=False.\n",
      "  exit_ignore=exit_ignore)\n",
      "/anaconda/lib/python3.6/site-packages/IPython/core/magics/execution.py:728: DtypeWarning: Columns (0,19) have mixed types. Specify dtype option on import or set low_memory=False.\n",
      "  exit_ignore=exit_ignore)\n",
      "/anaconda/lib/python3.6/site-packages/IPython/core/magics/execution.py:728: DtypeWarning: Columns (0,112) have mixed types. Specify dtype option on import or set low_memory=False.\n",
      "  exit_ignore=exit_ignore)\n",
      "/anaconda/lib/python3.6/site-packages/IPython/core/magics/execution.py:728: DtypeWarning: Columns (0,123,124,125,128,129,130,133,139,140,141) have mixed types. Specify dtype option on import or set low_memory=False.\n",
      "  exit_ignore=exit_ignore)\n",
      "/anaconda/lib/python3.6/site-packages/IPython/core/magics/execution.py:728: DtypeWarning: Columns (0) have mixed types. Specify dtype option on import or set low_memory=False.\n",
      "  exit_ignore=exit_ignore)\n",
      "/anaconda/lib/python3.6/site-packages/IPython/core/magics/execution.py:728: DtypeWarning: Columns (0,47,123,124,125,128,129,130,133) have mixed types. Specify dtype option on import or set low_memory=False.\n",
      "  exit_ignore=exit_ignore)\n",
      "/anaconda/lib/python3.6/site-packages/IPython/core/magics/execution.py:728: DtypeWarning: Columns (0,47) have mixed types. Specify dtype option on import or set low_memory=False.\n",
      "  exit_ignore=exit_ignore)\n"
     ]
    }
   ],
   "source": [
    "%run load_data.py"
   ]
  },
  {
   "cell_type": "markdown",
   "metadata": {},
   "source": [
    "## Combined training and test data sets, from which to boostrap"
   ]
  },
  {
   "cell_type": "code",
   "execution_count": 4,
   "metadata": {
    "collapsed": true
   },
   "outputs": [],
   "source": [
    "train_combined = pd.concat([train_features, train_labels], axis=1)\n",
    "test_combined = pd.concat([test_features, test_labels], axis=1)"
   ]
  },
  {
   "cell_type": "markdown",
   "metadata": {},
   "source": [
    "## Function to form predictions"
   ]
  },
  {
   "cell_type": "code",
   "execution_count": 52,
   "metadata": {
    "collapsed": true
   },
   "outputs": [],
   "source": [
    "from sklearn.linear_model import LogisticRegression\n",
    "import statsmodels.api as sm\n",
    "\n",
    "def predict(train_features, train_labels, test_features):\n",
    "    train_features_no_int = train_features.drop(\"int_rate_num\", 1)\n",
    "    test_features_no_int = test_features.drop(\"int_rate_num\", 1)\n",
    "\n",
    "    for grade in [\"A\", \"B\", \"C\", \"D\", \"E\", \"F\", \"G\"]: \n",
    "\n",
    "        lr_fail_rate = LogisticRegression()\n",
    "        lr_fail_rate.fit(train_features_no_int[train_labels[\"grade_\" + grade] == 1], \n",
    "                         train_labels[train_labels[\"grade_\" + grade] == 1][\"bad\"])\n",
    "        test_features[\"pred_fail_rate_\" + grade] = lr_fail_rate.predict_proba(test_features_no_int)[:, 1]\n",
    "\n",
    "        mask = (train_labels[\"grade_\" + grade] == 1) & (train_labels[\"bad\"] == 1)\n",
    "        lr_rec_rate = sm.OLS(train_labels[mask][\"return\"], sm.add_constant(train_features_no_int[mask])).fit()\n",
    "        test_features[\"pred_rec_rate_\" + grade] = lr_rec_rate.predict(test_features_no_int)\n",
    "\n",
    "        lr_rec_rate2 = sm.OLS(train_labels[mask][\"return\"] ** 2, sm.add_constant(train_features_no_int[mask])).fit()\n",
    "        test_features[\"pred_rec_rate2_\" + grade] = lr_rec_rate2.predict(test_features_no_int)\n",
    "\n",
    "        r = np.mean(train_features[train_labels[\"grade_\" + grade] == 1][\"int_rate_num\"])\n",
    "\n",
    "        test_features[\"exp_R_\" + grade] = ((1 + r) * (1 - test_features[\"pred_fail_rate_\" + grade]) +\n",
    "                             test_features[\"pred_rec_rate_\" + grade] * test_features[\"pred_fail_rate_\" + grade])\n",
    "\n",
    "        test_features[\"var_R_\" + grade] = ((1 + r)**2 * (1 - test_features[\"pred_fail_rate_\" + grade]) +\n",
    "                             test_features[\"pred_rec_rate2_\" + grade] * test_features[\"pred_fail_rate_\" + grade] \n",
    "                             - test_features[\"exp_R_\" + grade]**2)\n",
    "    return"
   ]
  },
  {
   "cell_type": "markdown",
   "metadata": {},
   "source": [
    "## Run bootstrap"
   ]
  },
  {
   "cell_type": "code",
   "execution_count": 6,
   "metadata": {
    "collapsed": true
   },
   "outputs": [],
   "source": [
    "from sklearn.utils import resample\n",
    "import random\n",
    "import scipy.optimize"
   ]
  },
  {
   "cell_type": "code",
   "execution_count": 55,
   "metadata": {
    "collapsed": true
   },
   "outputs": [],
   "source": [
    "def nllh(beta, features, labels):\n",
    "    utilities = {}\n",
    "    for grade in [\"A\", \"B\", \"C\", \"D\", \"E\", \"F\", \"G\"]:\n",
    "        utilities[grade] = np.dot(features[[\"exp_R_\" + grade, \"var_R_\" + grade]].values, beta)\n",
    "    utilitiesArray = pd.DataFrame(utilities).values\n",
    "    indicatorArray = labels[[\"grade_\" + x for x in [\"A\", \"B\", \"C\", \"D\", \"E\", \"F\", \"G\"]]].values\n",
    "    term1 = np.sum(utilitiesArray * indicatorArray, axis=1)\n",
    "    term2 = scipy.special.logsumexp(utilitiesArray, axis=1)\n",
    "    return -1 * np.sum(term1 - term2)"
   ]
  },
  {
   "cell_type": "code",
   "execution_count": 56,
   "metadata": {
    "collapsed": true
   },
   "outputs": [],
   "source": [
    "def grad(beta, features, labels):\n",
    "    X1, X2 = {}, {}\n",
    "    utilities = {}\n",
    "    for grade in [\"A\", \"B\", \"C\", \"D\", \"E\", \"F\", \"G\"]:\n",
    "        X1[grade] = features[\"exp_R_\" + grade].values\n",
    "        X2[grade] = features[\"var_R_\" + grade].values\n",
    "        utilities[grade] = np.dot(features[[\"exp_R_\" + grade, \"var_R_\" + grade]].values, beta)\n",
    "    X1Array = pd.DataFrame(X1).values\n",
    "    X2Array = pd.DataFrame(X2).values\n",
    "    utilitiesArray = pd.DataFrame(utilities).values\n",
    "        \n",
    "    indicatorArray = labels[[\"grade_\" + x for x in [\"A\", \"B\", \"C\", \"D\", \"E\", \"F\", \"G\"]]].values\n",
    "    \n",
    "    d1 = (np.sum(X1Array * indicatorArray, axis=1) - \n",
    "     np.sum(np.exp(utilitiesArray) * X1Array, axis=1) / np.sum(np.exp(utilitiesArray), axis=1))\n",
    "    d2 = (np.sum(X2Array * indicatorArray, axis=1) - \n",
    "     np.sum(np.exp(utilitiesArray) * X2Array, axis=1) / np.sum(np.exp(utilitiesArray), axis=1))\n",
    "    \n",
    "    return -1 * np.array([np.sum(d1), np.sum(d2)])"
   ]
  },
  {
   "cell_type": "code",
   "execution_count": 57,
   "metadata": {
    "collapsed": true
   },
   "outputs": [],
   "source": [
    "def bootstrap(train_combined, test_combined, iterations, results):\n",
    "    for i in range(iterations):\n",
    "        bs_train_combined = resample(train_combined)\n",
    "        bs_train_features = bs_train_combined.iloc[:, :train_features.shape[1]]\n",
    "        bs_train_labels = bs_train_combined.iloc[:, train_features.shape[1]:]\n",
    "\n",
    "        bs_test_combined = resample(test_combined)\n",
    "        bs_test_features = bs_test_combined.iloc[:, :test_features.shape[1]]\n",
    "        bs_test_labels = bs_test_combined.iloc[:, test_features.shape[1]:]\n",
    "\n",
    "        predict(bs_train_features, bs_train_labels, bs_test_features)\n",
    "\n",
    "        opt = scipy.optimize.minimize(nllh, [0,0], args=(bs_test_features, bs_test_labels), \n",
    "                                      jac=grad, method='L-BFGS-B')\n",
    "        results.append(opt.x)"
   ]
  },
  {
   "cell_type": "code",
   "execution_count": 34,
   "metadata": {
    "collapsed": true
   },
   "outputs": [],
   "source": [
    "# random.seed(0)\n",
    "iterations = 30\n",
    "# results = []\n",
    "\n",
    "bootstrap(train_combined, test_combined, iterations, results)"
   ]
  },
  {
   "cell_type": "code",
   "execution_count": 35,
   "metadata": {},
   "outputs": [
    {
     "data": {
      "text/html": [
       "<div>\n",
       "<style scoped>\n",
       "    .dataframe tbody tr th:only-of-type {\n",
       "        vertical-align: middle;\n",
       "    }\n",
       "\n",
       "    .dataframe tbody tr th {\n",
       "        vertical-align: top;\n",
       "    }\n",
       "\n",
       "    .dataframe thead th {\n",
       "        text-align: right;\n",
       "    }\n",
       "</style>\n",
       "<table border=\"1\" class=\"dataframe\">\n",
       "  <thead>\n",
       "    <tr style=\"text-align: right;\">\n",
       "      <th></th>\n",
       "      <th>beta1</th>\n",
       "      <th>beta2</th>\n",
       "    </tr>\n",
       "  </thead>\n",
       "  <tbody>\n",
       "    <tr>\n",
       "      <th>95</th>\n",
       "      <td>3.526189</td>\n",
       "      <td>-51.409682</td>\n",
       "    </tr>\n",
       "    <tr>\n",
       "      <th>96</th>\n",
       "      <td>2.771509</td>\n",
       "      <td>-50.471215</td>\n",
       "    </tr>\n",
       "    <tr>\n",
       "      <th>97</th>\n",
       "      <td>3.014344</td>\n",
       "      <td>-49.244638</td>\n",
       "    </tr>\n",
       "    <tr>\n",
       "      <th>98</th>\n",
       "      <td>2.077397</td>\n",
       "      <td>-49.495774</td>\n",
       "    </tr>\n",
       "    <tr>\n",
       "      <th>99</th>\n",
       "      <td>3.073853</td>\n",
       "      <td>-50.155066</td>\n",
       "    </tr>\n",
       "  </tbody>\n",
       "</table>\n",
       "</div>"
      ],
      "text/plain": [
       "       beta1      beta2\n",
       "95  3.526189 -51.409682\n",
       "96  2.771509 -50.471215\n",
       "97  3.014344 -49.244638\n",
       "98  2.077397 -49.495774\n",
       "99  3.073853 -50.155066"
      ]
     },
     "execution_count": 35,
     "metadata": {},
     "output_type": "execute_result"
    }
   ],
   "source": [
    "betas = pd.DataFrame(np.array(results))\n",
    "betas.columns = [\"beta1\", \"beta2\"]\n",
    "betas.tail()"
   ]
  },
  {
   "cell_type": "code",
   "execution_count": 36,
   "metadata": {},
   "outputs": [
    {
     "data": {
      "text/plain": [
       "array([  300.14632665,    20.26335828,    18.23525585,    22.30041397,\n",
       "          37.2809734 ,    57.42677698,    33.55429637,    26.45832043,\n",
       "          -6.82302533,    29.40436412,    18.94209825,    38.25543274,\n",
       "          16.50444837,    20.14925293,    27.02555633,    37.98402762,\n",
       "          25.9389909 ,    50.83763182,    25.59241209,    20.79807315,\n",
       "         676.49983751,    22.14610878,    37.33361366,   163.70413913,\n",
       "          25.85406997,   390.81153176,    53.78444213,    24.37483664,\n",
       "         243.2877353 ,    26.68723844,    36.14447791,    38.27284283,\n",
       "          20.8628453 ,    26.63682932,    32.05750893,    21.34326409,\n",
       "          26.12565427,    29.40526732,    46.37555108,  3962.86870922,\n",
       "          16.77470491,  -164.71881904,    69.92269038,    37.13905428,\n",
       "          41.60015149,    41.75814324,   -45.74801855,    20.03700711,\n",
       "          41.43569031,    41.5273345 ,    26.77323691,    22.79801497,\n",
       "          49.2228572 ,    27.65708315,    22.68341796,    90.15005001,\n",
       "          15.35428378,    15.05122959,    24.70332311,    17.13053734,\n",
       "          21.16097458,    14.86317159,    47.86473254,   111.75466093,\n",
       "          23.27270178,    24.33930706,    52.37601971,    41.74403732,\n",
       "          44.06539192,    81.14911978,    72.25213642,    78.07399769,\n",
       "         -38.85111324,    64.85118499,    45.02455355,    17.21902898,\n",
       "          30.09928634,    38.99291004,    66.73818453,    26.76120072,\n",
       "          47.16053955,    25.91588244,   137.45454254,    24.31146365,\n",
       "          34.56647082,    30.54082138,    54.36662876,    52.50790758,\n",
       "          32.65845228,    21.44829244,    26.82893245,    44.37390191,\n",
       "          40.592003  ,    30.27676014,    98.82627941,    29.15878017,\n",
       "          36.42147379,    32.67353211,    47.65172225,    32.63335688])"
      ]
     },
     "execution_count": 36,
     "metadata": {},
     "output_type": "execute_result"
    }
   ],
   "source": [
    "lambdas = -2 * (np.array(results)[:,1] / np.array(results)[:,0])\n",
    "lambdas"
   ]
  },
  {
   "cell_type": "code",
   "execution_count": 49,
   "metadata": {},
   "outputs": [
    {
     "data": {
      "text/plain": [
       "398.78763286570609"
      ]
     },
     "execution_count": 49,
     "metadata": {},
     "output_type": "execute_result"
    }
   ],
   "source": [
    "np.std(lambdas)"
   ]
  },
  {
   "cell_type": "code",
   "execution_count": 46,
   "metadata": {},
   "outputs": [
    {
     "data": {
      "text/plain": [
       "beta1    0.04\n",
       "beta2    1.00\n",
       "dtype: float64"
      ]
     },
     "execution_count": 46,
     "metadata": {},
     "output_type": "execute_result"
    }
   ],
   "source": [
    "np.mean(betas < 0, axis=0)"
   ]
  },
  {
   "cell_type": "code",
   "execution_count": 48,
   "metadata": {},
   "outputs": [
    {
     "data": {
      "text/plain": [
       "array([ 23.15403008,  47.28333523])"
      ]
     },
     "execution_count": 48,
     "metadata": {},
     "output_type": "execute_result"
    }
   ],
   "source": [
    "np.percentile(lambdas, [25,75])"
   ]
  },
  {
   "cell_type": "code",
   "execution_count": 39,
   "metadata": {},
   "outputs": [
    {
     "data": {
      "text/plain": [
       "array([ 2.17563823,  2.48767425])"
      ]
     },
     "execution_count": 39,
     "metadata": {},
     "output_type": "execute_result"
    }
   ],
   "source": [
    "np.std(np.array(results), axis=0)"
   ]
  },
  {
   "cell_type": "code",
   "execution_count": 40,
   "metadata": {
    "collapsed": true
   },
   "outputs": [],
   "source": [
    "betas.to_csv(\"bootstrappedbetas.csv\")"
   ]
  },
  {
   "cell_type": "markdown",
   "metadata": {},
   "source": [
    "## Linear regression for default"
   ]
  },
  {
   "cell_type": "code",
   "execution_count": 62,
   "metadata": {
    "collapsed": true
   },
   "outputs": [],
   "source": [
    "def predict2(train_features, train_labels, test_features):\n",
    "    train_features_no_int = train_features.drop(\"int_rate_num\", 1)\n",
    "    test_features_no_int = test_features.drop(\"int_rate_num\", 1)\n",
    "\n",
    "    for grade in [\"A\", \"B\", \"C\", \"D\", \"E\", \"F\", \"G\"]: \n",
    "\n",
    "        lr_fail_rate = sm.OLS(train_labels[train_labels[\"grade_\" + grade] == 1][\"bad\"],\n",
    "                          train_features_no_int[train_labels[\"grade_\" + grade] == 1]).fit()\n",
    "        test_features[\"pred_fail_rate_\" + grade] = lr_fail_rate.predict(test_features_no_int)\n",
    "\n",
    "        mask = (train_labels[\"grade_\" + grade] == 1) & (train_labels[\"bad\"] == 1)\n",
    "        lr_rec_rate = sm.OLS(train_labels[mask][\"return\"], sm.add_constant(train_features_no_int[mask])).fit()\n",
    "        test_features[\"pred_rec_rate_\" + grade] = lr_rec_rate.predict(test_features_no_int)\n",
    "\n",
    "        lr_rec_rate2 = sm.OLS(train_labels[mask][\"return\"] ** 2, sm.add_constant(train_features_no_int[mask])).fit()\n",
    "        test_features[\"pred_rec_rate2_\" + grade] = lr_rec_rate2.predict(test_features_no_int)\n",
    "\n",
    "        r = np.mean(train_features[train_labels[\"grade_\" + grade] == 1][\"int_rate_num\"])\n",
    "\n",
    "        test_features[\"exp_R_\" + grade] = ((1 + r) * (1 - test_features[\"pred_fail_rate_\" + grade]) +\n",
    "                             test_features[\"pred_rec_rate_\" + grade] * test_features[\"pred_fail_rate_\" + grade])\n",
    "\n",
    "        test_features[\"var_R_\" + grade] = ((1 + r)**2 * (1 - test_features[\"pred_fail_rate_\" + grade]) +\n",
    "                             test_features[\"pred_rec_rate2_\" + grade] * test_features[\"pred_fail_rate_\" + grade] \n",
    "                             - test_features[\"exp_R_\" + grade]**2)\n",
    "    return\n",
    "\n",
    "def nllh2(beta, features, labels):\n",
    "    utilities = {}\n",
    "    for grade in [\"A\", \"B\", \"C\", \"D\", \"E\", \"F\", \"G\"]:\n",
    "        utilities[grade] = np.dot(features[[\"exp_R_\" + grade, \"var_R_\" + grade]].values, beta)\n",
    "    utilitiesArray = pd.DataFrame(utilities).values\n",
    "    indicatorArray = labels[[\"grade_\" + x for x in [\"A\", \"B\", \"C\", \"D\", \"E\", \"F\", \"G\"]]].values\n",
    "    term1 = np.sum(utilitiesArray * indicatorArray, axis=1)\n",
    "    term2 = scipy.special.logsumexp(utilitiesArray, axis=1)\n",
    "    return -1 * np.sum(term1 - term2)\n",
    "\n",
    "def bootstrap2(train_combined, test_combined, iterations, results):\n",
    "    for i in range(iterations):\n",
    "        bs_train_combined = resample(train_combined)\n",
    "        bs_train_features = bs_train_combined.iloc[:, :train_features.shape[1]]\n",
    "        bs_train_labels = bs_train_combined.iloc[:, train_features.shape[1]:]\n",
    "\n",
    "        bs_test_combined = resample(test_combined)\n",
    "        bs_test_features = bs_test_combined.iloc[:, :test_features.shape[1]]\n",
    "        bs_test_labels = bs_test_combined.iloc[:, test_features.shape[1]:]\n",
    "\n",
    "        predict2(bs_train_features, bs_train_labels, bs_test_features)\n",
    "\n",
    "        opt = scipy.optimize.minimize(nllh2, [0,0], args=(bs_test_features, bs_test_labels), \n",
    "                                      method='L-BFGS-B')\n",
    "        results.append(opt.x)"
   ]
  },
  {
   "cell_type": "code",
   "execution_count": 74,
   "metadata": {
    "collapsed": true
   },
   "outputs": [],
   "source": [
    "# random.seed(0)\n",
    "iterations = 20\n",
    "# results2 = []\n",
    "\n",
    "bootstrap2(train_combined, test_combined, iterations, results2)"
   ]
  },
  {
   "cell_type": "code",
   "execution_count": 76,
   "metadata": {},
   "outputs": [
    {
     "data": {
      "text/html": [
       "<div>\n",
       "<style scoped>\n",
       "    .dataframe tbody tr th:only-of-type {\n",
       "        vertical-align: middle;\n",
       "    }\n",
       "\n",
       "    .dataframe tbody tr th {\n",
       "        vertical-align: top;\n",
       "    }\n",
       "\n",
       "    .dataframe thead th {\n",
       "        text-align: right;\n",
       "    }\n",
       "</style>\n",
       "<table border=\"1\" class=\"dataframe\">\n",
       "  <thead>\n",
       "    <tr style=\"text-align: right;\">\n",
       "      <th></th>\n",
       "      <th>beta1</th>\n",
       "      <th>beta2</th>\n",
       "    </tr>\n",
       "  </thead>\n",
       "  <tbody>\n",
       "    <tr>\n",
       "      <th>95</th>\n",
       "      <td>-14.788980</td>\n",
       "      <td>-2.545643</td>\n",
       "    </tr>\n",
       "    <tr>\n",
       "      <th>96</th>\n",
       "      <td>-8.438162</td>\n",
       "      <td>-35.374536</td>\n",
       "    </tr>\n",
       "    <tr>\n",
       "      <th>97</th>\n",
       "      <td>-12.673728</td>\n",
       "      <td>0.876203</td>\n",
       "    </tr>\n",
       "    <tr>\n",
       "      <th>98</th>\n",
       "      <td>-6.641022</td>\n",
       "      <td>-32.102592</td>\n",
       "    </tr>\n",
       "    <tr>\n",
       "      <th>99</th>\n",
       "      <td>-8.494172</td>\n",
       "      <td>-37.059894</td>\n",
       "    </tr>\n",
       "  </tbody>\n",
       "</table>\n",
       "</div>"
      ],
      "text/plain": [
       "        beta1      beta2\n",
       "95 -14.788980  -2.545643\n",
       "96  -8.438162 -35.374536\n",
       "97 -12.673728   0.876203\n",
       "98  -6.641022 -32.102592\n",
       "99  -8.494172 -37.059894"
      ]
     },
     "execution_count": 76,
     "metadata": {},
     "output_type": "execute_result"
    }
   ],
   "source": [
    "betas2 = pd.DataFrame(np.array(results2))\n",
    "betas2.columns = [\"beta1\", \"beta2\"]\n",
    "betas2.tail()"
   ]
  },
  {
   "cell_type": "code",
   "execution_count": 78,
   "metadata": {},
   "outputs": [
    {
     "data": {
      "text/plain": [
       "beta1    1.0\n",
       "beta2    0.9\n",
       "dtype: float64"
      ]
     },
     "execution_count": 78,
     "metadata": {},
     "output_type": "execute_result"
    }
   ],
   "source": [
    "np.mean(betas2 < 0, axis=0)"
   ]
  },
  {
   "cell_type": "code",
   "execution_count": 82,
   "metadata": {},
   "outputs": [
    {
     "data": {
      "text/plain": [
       "0.10000000000000001"
      ]
     },
     "execution_count": 82,
     "metadata": {},
     "output_type": "execute_result"
    }
   ],
   "source": [
    "lambdas2 = -2 * (np.array(results2)[:,1] / np.array(results2)[:,0])\n",
    "np.std(lambdas2)"
   ]
  },
  {
   "cell_type": "code",
   "execution_count": 83,
   "metadata": {},
   "outputs": [
    {
     "data": {
      "text/plain": [
       "array([-8.40597944, -2.46526648])"
      ]
     },
     "execution_count": 83,
     "metadata": {},
     "output_type": "execute_result"
    }
   ],
   "source": [
    "np.percentile(lambdas2, [25,75])"
   ]
  },
  {
   "cell_type": "code",
   "execution_count": 85,
   "metadata": {},
   "outputs": [
    {
     "data": {
      "text/plain": [
       "array([  2.06440395,  13.85653922])"
      ]
     },
     "execution_count": 85,
     "metadata": {},
     "output_type": "execute_result"
    }
   ],
   "source": [
    "np.std(np.array(results2), axis=0)"
   ]
  },
  {
   "cell_type": "code",
   "execution_count": 86,
   "metadata": {
    "collapsed": true
   },
   "outputs": [],
   "source": [
    "betas2.to_csv(\"bootstrappedbetas2.csv\")"
   ]
  },
  {
   "cell_type": "markdown",
   "metadata": {},
   "source": [
    "## Polynomial regressions"
   ]
  },
  {
   "cell_type": "code",
   "execution_count": 180,
   "metadata": {
    "collapsed": true
   },
   "outputs": [],
   "source": [
    "from sklearn.preprocessing import PolynomialFeatures\n",
    "\n",
    "train_features_poly2 = PolynomialFeatures().fit_transform(train_features.drop('int_rate_num'))\n",
    "test_features_poly2 = PolynomialFeatures().fit_transform(test_features.drop('int_rate_num'))"
   ]
  },
  {
   "cell_type": "code",
   "execution_count": 232,
   "metadata": {
    "collapsed": true
   },
   "outputs": [],
   "source": [
    "from sklearn.linear_model import LogisticRegression\n",
    "from sklearn.linear_model import Lasso\n",
    "import statsmodels.api as sm\n",
    "\n",
    "def predict_poly2(train_features, train_features_poly2, train_labels, test_features, test_features_poly2):\n",
    "    for grade in [\"A\"]: \n",
    "\n",
    "        lr_fail_rate = sm.OLS(train_labels[train_labels[\"grade_\" + grade] == 1][\"bad\"],\n",
    "                            train_features_poly2[train_labels[\"grade_\" + grade] == 1]).fit()\n",
    "        test_features[\"poly2_pred_fail_rate_\" + grade] = lr_fail_rate.predict(test_features_poly2)\n",
    "\n",
    "        mask = (train_labels[\"grade_\" + grade] == 1) & (train_labels[\"bad\"] == 1)\n",
    "        lr_rec_rate = sm.OLS(train_labels[mask][\"return\"], train_features_poly2[mask]).fit()\n",
    "        test_features[\"poly2_pred_rec_rate_\" + grade] = lr_rec_rate.predict(test_features_poly2)\n",
    "\n",
    "        lr_rec_rate2 = sm.OLS(train_labels[mask][\"return\"] ** 2, sm.add_constant(train_features_no_int[mask])).fit()\n",
    "        test_features[\"poly2_pred_rec_rate2_\" + grade] = lr_rec_rate2.predict(test_features_poly2)\n",
    "\n",
    "        r = np.mean(train_features[train_labels[\"grade_\" + grade] == 1][\"int_rate_num\"])\n",
    "\n",
    "        test_features[\"poly2_exp_R_\" + grade] = ((1 + r) * (1 - test_features[\"poly2_pred_fail_rate_\" + grade]) +\n",
    "                             test_features[\"poly2_pred_rec_rate_\" + grade] * test_features[\"poly2_pred_fail_rate_\" + grade])\n",
    "\n",
    "        test_features[\"poly2_var_R_\" + grade] = ((1 + r)**2 * (1 - test_features[\"poly2_pred_fail_rate_\" + grade]) +\n",
    "                             test_features[\"poly2_pred_rec_rate2_\" + grade] * test_features[\"poly2_pred_fail_rate_\" + grade] \n",
    "                             - test_features[\"poly2_exp_R_\" + grade]**2)\n",
    "    return"
   ]
  },
  {
   "cell_type": "code",
   "execution_count": null,
   "metadata": {
    "collapsed": true
   },
   "outputs": [],
   "source": [
    "predict_poly2(train_features, train_features_poly2, train_labels, test_features, test_features_poly2)"
   ]
  },
  {
   "cell_type": "markdown",
   "metadata": {},
   "source": [
    "## Random forest regression"
   ]
  },
  {
   "cell_type": "code",
   "execution_count": 8,
   "metadata": {
    "collapsed": true
   },
   "outputs": [],
   "source": [
    "from sklearn.ensemble import RandomForestRegressor\n",
    "\n",
    "def predict_RF(train_features, train_labels, test_features):\n",
    "    train_features_no_int = train_features.drop(\"int_rate_num\", 1)\n",
    "    test_features_no_int = test_features.drop(\"int_rate_num\", 1).iloc[:, :110]\n",
    "\n",
    "    for grade in [\"A\", \"B\", \"C\", \"D\", \"E\", \"F\", \"G\"]: \n",
    "\n",
    "        lr_fail_rate = RandomForestRegressor(n_estimators=20)\n",
    "        lr_fail_rate.fit(train_features_no_int[train_labels[\"grade_\" + grade] == 1], \n",
    "                         train_labels[train_labels[\"grade_\" + grade] == 1][\"bad\"])\n",
    "        test_features[\"pred_fail_rate_\" + grade] = lr_fail_rate.predict(test_features_no_int)\n",
    "\n",
    "        mask = (train_labels[\"grade_\" + grade] == 1) & (train_labels[\"bad\"] == 1)\n",
    "        lr_rec_rate = RandomForestRegressor(n_estimators=20)\n",
    "        lr_rec_rate.fit(sm.add_constant(train_features_no_int[mask]),\n",
    "                        train_labels[mask][\"return\"])\n",
    "        test_features[\"pred_rec_rate_\" + grade] = lr_rec_rate.predict(test_features_no_int)\n",
    "\n",
    "        lr_rec_rate2 = RandomForestRegressor(n_estimators=20)\n",
    "        lr_rec_rate2.fit(sm.add_constant(train_features_no_int[mask]),\n",
    "                         train_labels[mask][\"return\"] ** 2)\n",
    "        test_features[\"pred_rec_rate2_\" + grade] = lr_rec_rate2.predict(test_features_no_int)\n",
    "\n",
    "        r = np.mean(train_features[train_labels[\"grade_\" + grade] == 1][\"int_rate_num\"])\n",
    "\n",
    "        test_features[\"exp_R_\" + grade] = ((1 + r) * (1 - test_features[\"pred_fail_rate_\" + grade]) +\n",
    "                             test_features[\"pred_rec_rate_\" + grade] * test_features[\"pred_fail_rate_\" + grade])\n",
    "\n",
    "        test_features[\"var_R_\" + grade] = ((1 + r)**2 * (1 - test_features[\"pred_fail_rate_\" + grade]) +\n",
    "                             test_features[\"pred_rec_rate2_\" + grade] * test_features[\"pred_fail_rate_\" + grade] \n",
    "                             - test_features[\"exp_R_\" + grade]**2)\n",
    "    return\n",
    "\n",
    "def nllh_RF(beta, features, labels):\n",
    "    utilities = {}\n",
    "    for grade in [\"A\", \"B\", \"C\", \"D\", \"E\", \"F\", \"G\"]:\n",
    "        utilities[grade] = np.dot(features[[\"exp_R_\" + grade, \"var_R_\" + grade]].values, beta)\n",
    "    utilitiesArray = pd.DataFrame(utilities).values\n",
    "    indicatorArray = labels[[\"grade_\" + x for x in [\"A\", \"B\", \"C\", \"D\", \"E\", \"F\", \"G\"]]].values\n",
    "    term1 = np.sum(utilitiesArray * indicatorArray, axis=1)\n",
    "    term2 = scipy.special.logsumexp(utilitiesArray, axis=1)\n",
    "    return -1 * np.sum(term1 - term2)\n",
    "\n",
    "def bootstrap_RF(train_combined, test_combined, iterations, results):\n",
    "    for i in range(iterations):\n",
    "        bs_train_combined = resample(train_combined)\n",
    "        bs_train_features = bs_train_combined.iloc[:, :train_features.shape[1]]\n",
    "        bs_train_labels = bs_train_combined.iloc[:, train_features.shape[1]:]\n",
    "\n",
    "        bs_test_combined = resample(test_combined)\n",
    "        bs_test_features = bs_test_combined.iloc[:, :test_features.shape[1]]\n",
    "        bs_test_labels = bs_test_combined.iloc[:, test_features.shape[1]:]\n",
    "\n",
    "        predict_RF(bs_train_features, bs_train_labels, bs_test_features)\n",
    "\n",
    "        opt = scipy.optimize.minimize(nllh_RF, [0,0], args=(bs_test_features, bs_test_labels), \n",
    "                                      method='L-BFGS-B')\n",
    "        results.append(opt.x)"
   ]
  },
  {
   "cell_type": "code",
   "execution_count": 11,
   "metadata": {},
   "outputs": [],
   "source": [
    "# random.seed(0)\n",
    "iterations = 4\n",
    "# results_RF = []\n",
    "\n",
    "bootstrap_RF(train_combined, test_combined, iterations, results_RF)"
   ]
  },
  {
   "cell_type": "code",
   "execution_count": 12,
   "metadata": {},
   "outputs": [
    {
     "data": {
      "text/plain": [
       "[array([ -4.70901107, -24.92647525]),\n",
       " array([ -4.70933308, -25.867961  ]),\n",
       " array([ -4.70986175, -24.52619762]),\n",
       " array([ -4.97367857, -27.2411059 ]),\n",
       " array([ -4.43213027, -24.62088241])]"
      ]
     },
     "execution_count": 12,
     "metadata": {},
     "output_type": "execute_result"
    }
   ],
   "source": [
    "results_RF"
   ]
  },
  {
   "cell_type": "code",
   "execution_count": 88,
   "metadata": {
    "collapsed": true
   },
   "outputs": [],
   "source": [
    "predict_RF(train_features, train_labels, test_features)"
   ]
  },
  {
   "cell_type": "code",
   "execution_count": 89,
   "metadata": {
    "collapsed": true
   },
   "outputs": [],
   "source": [
    "opt = scipy.optimize.minimize(nllh, [0,0], args=(test_features, test_labels,), method='L-BFGS-B')"
   ]
  },
  {
   "cell_type": "code",
   "execution_count": 90,
   "metadata": {},
   "outputs": [
    {
     "data": {
      "text/plain": [
       "      fun: 871886.99902536138\n",
       " hess_inv: <2x2 LbfgsInvHessProduct with dtype=float64>\n",
       "      jac: array([ 0.04656613,  0.        ])\n",
       "  message: b'CONVERGENCE: REL_REDUCTION_OF_F_<=_FACTR*EPSMCH'\n",
       "     nfev: 27\n",
       "      nit: 7\n",
       "   status: 0\n",
       "  success: True\n",
       "        x: array([ -5.02716861, -26.73036231])"
      ]
     },
     "execution_count": 90,
     "metadata": {},
     "output_type": "execute_result"
    }
   ],
   "source": [
    "opt"
   ]
  },
  {
   "cell_type": "code",
   "execution_count": 94,
   "metadata": {},
   "outputs": [
    {
     "data": {
      "image/png": "[encoded data removed]",
      "text/plain": [
       "<Figure size 432x288 with 1 Axes>"
      ]
     },
     "metadata": {},
     "output_type": "display_data"
    }
   ],
   "source": [
    "for grade in [\"A\", \"B\", \"C\", \"D\", \"E\", \"F\", \"G\"]:\n",
    "    plt.plot(test_features[test_labels[\"grade_\" + grade] == 1][\"exp_R_\" + grade][:4000], \n",
    "             test_features[test_labels[\"grade_\" + grade] == 1][\"var_R_\" + grade][:4000], \n",
    "             marker='o', linestyle='', label=grade, alpha = 0.25)\n",
    "\n",
    "plt.legend()\n",
    "plt.title(\"Loans by Estimated Mean and Variance of Return\")\n",
    "plt.xlabel(\"Estimated Mean\")\n",
    "plt.ylabel(\"Estimated Variance\")\n",
    "\n",
    "plt.savefig('returnvarianceRF.pdf')\n",
    "plt.show()"
   ]
  },
  {
   "cell_type": "code",
   "execution_count": null,
   "metadata": {
    "collapsed": true
   },
   "outputs": [],
   "source": []
  }
 ],
 "metadata": {
  "kernelspec": {
   "display_name": "Python 3",
   "language": "python",
   "name": "python3"
  },
  "language_info": {
   "codemirror_mode": {
    "name": "ipython",
    "version": 3
   },
   "file_extension": ".py",
   "mimetype": "text/x-python",
   "name": "python",
   "nbconvert_exporter": "python",
   "pygments_lexer": "ipython3",
   "version": "3.6.1"
  }
 },
 "nbformat": 4,
 "nbformat_minor": 2
}
